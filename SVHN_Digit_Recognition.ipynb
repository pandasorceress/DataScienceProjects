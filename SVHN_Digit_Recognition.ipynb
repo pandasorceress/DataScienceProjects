{
  "cells": [
    {
      "cell_type": "markdown",
      "metadata": {
        "id": "view-in-github",
        "colab_type": "text"
      },
      "source": [
        "<a href=\"https://colab.research.google.com/github/pandasorceress/DataScienceProjects/blob/main/SVHN_Digit_Recognition.ipynb\" target=\"_parent\"><img src=\"https://colab.research.google.com/assets/colab-badge.svg\" alt=\"Open In Colab\"/></a>"
      ]
    },
    {
      "cell_type": "markdown",
      "metadata": {
        "id": "Q91KqmCRu64D"
      },
      "source": [
        "# **Deep Learning Project: Street View Housing Number Digit Recognition**\n",
        "\n",
        "# **Marks: 60**\n",
        "\n",
        "--------------\n",
        "## **Context**\n",
        "--------------\n",
        "\n",
        "One of the most interesting tasks in deep learning is to recognize objects in natural scenes. The ability to process visual information using machine learning algorithms can be very useful as demonstrated in various applications.\n",
        "\n",
        "The SVHN dataset contains over 600,000 labeled digits cropped from street-level photos. It is one of the most popular image recognition datasets. It has been used in neural networks created by Google to improve the map quality by automatically transcribing the address numbers from a patch of pixels. The transcribed number with a known street address helps pinpoint the location of the building it represents.\n",
        "\n",
        "----------------\n",
        "## **Objective**\n",
        "----------------\n",
        "\n",
        "Our objective is to predict the number depicted inside the image by using Artificial or Fully Connected Feed Forward Neural Networks and Convolutional Neural Networks. We will go through various models of each and finally select the one that is giving us the best performance.\n",
        "\n",
        "-------------\n",
        "## **Dataset**\n",
        "-------------\n",
        "Here, we will use a subset of the original data to save some computation time. The dataset is provided as a .h5 file. The basic preprocessing steps have been applied on the dataset."
      ]
    },
    {
      "cell_type": "markdown",
      "metadata": {
        "id": "8z2Z7-OAs8QG"
      },
      "source": [
        "## **Mount the drive**\n",
        "\n",
        "Let us start by mounting the Google drive. You can run the below cell to mount the Google drive."
      ]
    },
    {
      "cell_type": "code",
      "execution_count": null,
      "metadata": {
        "id": "03lDyQUuef7z",
        "colab": {
          "base_uri": "https://localhost:8080/"
        },
        "outputId": "282a3ba0-404a-4565-f66c-f9e526dc4aa1"
      },
      "outputs": [
        {
          "output_type": "stream",
          "name": "stdout",
          "text": [
            "Mounted at /content/drive\n"
          ]
        }
      ],
      "source": [
        "from google.colab import drive #import google drive\n",
        "drive.mount('/content/drive') #mount drive for file access"
      ]
    },
    {
      "cell_type": "markdown",
      "metadata": {
        "id": "C8U3DUa3eNsT"
      },
      "source": [
        "## **Importing the necessary libraries**"
      ]
    },
    {
      "cell_type": "code",
      "execution_count": null,
      "metadata": {
        "id": "-dVzeuF3eQx1"
      },
      "outputs": [],
      "source": [
        "#importing all packages I need or may need for the work\n",
        "import pandas as pd\n",
        "import numpy as np\n",
        "import matplotlib.pyplot as plt\n",
        "import seaborn as sns\n",
        "import h5py\n",
        "import tensorflow as tf\n",
        "import keras\n",
        "from sklearn.metrics import (\n",
        "    classification_report,\n",
        "    accuracy_score,\n",
        "    confusion_matrix,\n",
        "    precision_score,\n",
        "    recall_score,\n",
        "    f1_score,\n",
        "    precision_recall_curve,\n",
        "    auc,\n",
        ")\n",
        "#import what I need from TF and Keras\n",
        "from tensorflow.keras.layers import (Dense, Dropout, BatchNormalization)\n",
        "from tensorflow.keras.layers import (Activation, Dense)\n",
        "from tensorflow.keras.utils import to_categorical\n",
        "from tensorflow.keras.models import Sequential\n",
        "from tensorflow.keras import optimizers\n"
      ]
    },
    {
      "cell_type": "markdown",
      "metadata": {
        "id": "ucnevGLoyKf_"
      },
      "source": [
        "**Let us check the version of tensorflow.**"
      ]
    },
    {
      "cell_type": "code",
      "execution_count": null,
      "metadata": {
        "id": "W5as47YxyJVk",
        "colab": {
          "base_uri": "https://localhost:8080/"
        },
        "outputId": "259216a0-2ffb-44d1-a0dd-ba931f8d399d"
      },
      "outputs": [
        {
          "output_type": "stream",
          "name": "stdout",
          "text": [
            "<module 'tensorflow._api.v2.version' from '/usr/local/lib/python3.10/dist-packages/tensorflow/_api/v2/version/__init__.py'>\n"
          ]
        }
      ],
      "source": [
        "print(tf.version) #checking version and displaying\n",
        "#We find it is calling v2"
      ]
    },
    {
      "cell_type": "markdown",
      "metadata": {
        "id": "8lsux2ZwyTTR"
      },
      "source": [
        "## **Load the dataset**\n",
        "\n",
        "- Let us now load the dataset that is available as a .h5 file.\n",
        "- Split the data into the train and the test dataset."
      ]
    },
    {
      "cell_type": "code",
      "execution_count": null,
      "metadata": {
        "id": "BApX9qgNsqV0",
        "scrolled": true,
        "colab": {
          "base_uri": "https://localhost:8080/"
        },
        "outputId": "e4d22237-3700-4d4f-ccf2-66753a1c03a6"
      },
      "outputs": [
        {
          "output_type": "execute_result",
          "data": {
            "text/plain": [
              "<KeysViewHDF5 ['X_test', 'X_train', 'X_val', 'y_test', 'y_train', 'y_val']>"
            ]
          },
          "metadata": {},
          "execution_count": 10
        }
      ],
      "source": [
        "#I will assign the file to a variable for easier access and load it\n",
        "h5data = ('/content/drive/MyDrive/Deep Learning/SVHN_single_grey1.h5')\n",
        "h5data = h5py.File(h5data, 'r') #reading file\n",
        "#let's load the keys of the dataset\n",
        "h5data.keys()"
      ]
    },
    {
      "cell_type": "code",
      "source": [
        "#now I need to split the dataset into training and testing data using the keys above\n",
        "X_train = h5data['X_train'][:] #x training data\n",
        "y_train_o = h5data['y_train'][:] #y training data\n",
        "#now I need the validation data assigned\n",
        "X_val = h5data['X_val'][:] #x validation data\n",
        "y_val_o = h5data['y_val'][:] #y validation data\n",
        "#next I will get the test data assigned\n",
        "X_test = h5data['X_test'][:] #x test data\n",
        "y_test_o = h5data['y_test'][:] #y test data"
      ],
      "metadata": {
        "id": "nteG_YE46UrE"
      },
      "execution_count": null,
      "outputs": []
    },
    {
      "cell_type": "code",
      "source": [
        "#since I have assigned all the data to variables and split up test/train/validation data, I can close the file now to stop running it\n",
        "h5data.close()"
      ],
      "metadata": {
        "id": "CX7kVozb6-Pc"
      },
      "execution_count": null,
      "outputs": []
    },
    {
      "cell_type": "markdown",
      "metadata": {
        "id": "hVe0CYpUgj7w"
      },
      "source": [
        "Check the number of images in the training and the testing dataset."
      ]
    },
    {
      "cell_type": "code",
      "source": [
        "#let's check the data by displaying it and cfhecking its shape\n",
        "print('Training Data', X_train.shape, y_train_o.shape)\n",
        "print('Validation Data', X_val.shape, y_val_o.shape)\n",
        "print('Testing Data', X_test.shape, y_test_o.shape)"
      ],
      "metadata": {
        "colab": {
          "base_uri": "https://localhost:8080/"
        },
        "id": "CMX7_fkw7Fyr",
        "outputId": "ae629ae3-8a52-4ccc-ed96-422301be96d5"
      },
      "execution_count": null,
      "outputs": [
        {
          "output_type": "stream",
          "name": "stdout",
          "text": [
            "Training Data (42000, 32, 32) (42000,)\n",
            "Validation Data (60000, 32, 32) (60000,)\n",
            "Testing Data (18000, 32, 32) (18000,)\n"
          ]
        }
      ]
    },
    {
      "cell_type": "code",
      "source": [
        "#I also want to check for unique labels now, because I need to understand my data best I can before diving into visualization\n",
        "print('Unique labels in y_train:', np.unique(y_train_o))\n",
        "print('Unique labels in y_val:', np.unique(y_val_o))\n",
        "print('Unique labels in y_test:', np.unique(y_test_o))\n",
        "#10 unique labels rane 0:9 inclusive"
      ],
      "metadata": {
        "colab": {
          "base_uri": "https://localhost:8080/"
        },
        "id": "uHYQQphX7kAh",
        "outputId": "9247b114-75c7-4acb-e591-7f98750c1ea1"
      },
      "execution_count": null,
      "outputs": [
        {
          "output_type": "stream",
          "name": "stdout",
          "text": [
            "Unique labels in y_train: [0 1 2 3 4 5 6 7 8 9]\n",
            "Unique labels in y_val: [0 1 2 3 4 5 6 7 8 9]\n",
            "Unique labels in y_test: [0 1 2 3 4 5 6 7 8 9]\n"
          ]
        }
      ]
    },
    {
      "cell_type": "markdown",
      "metadata": {
        "id": "akTUOfLlgwoM"
      },
      "source": [
        "**Observation:**"
      ]
    },
    {
      "cell_type": "markdown",
      "source": [
        "So, what we know currently: Training Data has 42,000 pieces of data (images), Validation Data has 60,000, and Testing Data has 18,000.\n",
        "Each set actually has the same size of 32*32 for the images.\n",
        "I also found that I havew 10 unique classifiers for the data\n",
        "0,1,2,3,4,5,6,7,8,9"
      ],
      "metadata": {
        "id": "mYg7rCwg8Yev"
      }
    },
    {
      "cell_type": "markdown",
      "metadata": {
        "id": "kxODV6HKykuc"
      },
      "source": [
        "## **Visualizing images**\n",
        "\n",
        "- Use X_train to visualize the first 10 images.\n",
        "- Use Y_train to print the first 10 labels."
      ]
    },
    {
      "cell_type": "code",
      "execution_count": null,
      "metadata": {
        "id": "Bvsc8ytHsqWD",
        "colab": {
          "base_uri": "https://localhost:8080/",
          "height": 465
        },
        "outputId": "1a9b3b4c-e2da-4ceb-d79c-faf2dd46ea48"
      },
      "outputs": [
        {
          "output_type": "display_data",
          "data": {
            "text/plain": [
              "<Figure size 1000x650 with 10 Axes>"
            ],
            "image/png": "[encoded data removed]"
          },
          "metadata": {}
        }
      ],
      "source": [
        "#Visualizing the first 10 images of X_train\n",
        "plt.figure(figsize=(10, 6.5))\n",
        "for i in range(10):\n",
        "    plt.subplot(2, 5, i+1)\n",
        "    plt.imshow(X_train[i], cmap='Blues')\n",
        "    plt.title(y_train_o[i])\n",
        "    plt.xticks([])\n",
        "    plt.yticks([])"
      ]
    },
    {
      "cell_type": "code",
      "source": [
        "print('Label for each of the above image: %s' % (y_train_o[0 : 10])) #printing the first 10 labels for training data"
      ],
      "metadata": {
        "colab": {
          "base_uri": "https://localhost:8080/"
        },
        "id": "5XM6VRFV-1wg",
        "outputId": "5ddb2bf8-4b68-4f64-8c39-59d1d056efae"
      },
      "execution_count": null,
      "outputs": [
        {
          "output_type": "stream",
          "name": "stdout",
          "text": [
            "Label for each of the above image: [2 6 7 4 4 0 3 0 7 3]\n"
          ]
        }
      ]
    },
    {
      "cell_type": "code",
      "source": [
        "#Let's visualize the first 10 images of test with y_train_o\n",
        "plt.figure(figsize=(10, 6.5))\n",
        "for i in range(10):\n",
        "    plt.subplot(2, 5, i+1)\n",
        "    plt.imshow(X_test[i], cmap='Purples')\n",
        "    plt.title(y_test_o[i])"
      ],
      "metadata": {
        "colab": {
          "base_uri": "https://localhost:8080/",
          "height": 489
        },
        "id": "cGzRob8C-VKz",
        "outputId": "26d20aea-b4de-49c0-cbc6-f36e7535d074"
      },
      "execution_count": null,
      "outputs": [
        {
          "output_type": "display_data",
          "data": {
            "text/plain": [
              "<Figure size 1000x650 with 10 Axes>"
            ],
            "image/png": "[encoded data removed]"
          },
          "metadata": {}
        }
      ]
    },
    {
      "cell_type": "code",
      "source": [
        "print('Label for each of the above image: %s' % (y_test_o[0 : 10])) #printing first 10 labels for test data"
      ],
      "metadata": {
        "colab": {
          "base_uri": "https://localhost:8080/"
        },
        "id": "btQrLBCO_IeB",
        "outputId": "5891d95e-04c4-4e19-d3e7-f47c419ed57a"
      },
      "execution_count": null,
      "outputs": [
        {
          "output_type": "stream",
          "name": "stdout",
          "text": [
            "Label for each of the above image: [1 7 2 9 0 9 1 8 4 4]\n"
          ]
        }
      ]
    },
    {
      "cell_type": "markdown",
      "source": [
        "This shows me that the images are of house number mostly. Some are quite hard to distinguish and are not fully captured in the image."
      ],
      "metadata": {
        "id": "H1eo32Xa-Mh4"
      }
    },
    {
      "cell_type": "markdown",
      "metadata": {
        "id": "kzoyeXHOy80N"
      },
      "source": [
        "## **Data preparation**\n",
        "\n",
        "- Print the shape and the array of pixels for the first image in the training dataset.\n",
        "- Normalize the train and the test dataset by dividing by 255.\n",
        "- Print the new shapes of the train and the test dataset.\n",
        "- One-hot encode the target variable."
      ]
    },
    {
      "cell_type": "code",
      "execution_count": null,
      "metadata": {
        "id": "NqndzQXng9rL",
        "colab": {
          "base_uri": "https://localhost:8080/",
          "height": 484
        },
        "outputId": "a8077e44-a92c-4b9e-aeb3-09f165bdc215"
      },
      "outputs": [
        {
          "output_type": "stream",
          "name": "stdout",
          "text": [
            "Looking at the first image and label in the training set\n",
            "------------------------------------------------------------\n"
          ]
        },
        {
          "output_type": "display_data",
          "data": {
            "text/plain": [
              "<Figure size 640x480 with 1 Axes>"
            ],
            "image/png": "[encoded data removed]"
          },
          "metadata": {}
        },
        {
          "output_type": "stream",
          "name": "stdout",
          "text": [
            "Label: 2\n"
          ]
        }
      ],
      "source": [
        "#Checking the first image shape and pixels array\n",
        "print('Looking at the first image and label in the training set'); print('--'*30) #visualize the firist image\n",
        "plt.imshow(X_train[0], cmap = plt.cm.binary)\n",
        "plt.show()\n",
        "print('Label:', y_train_o[0])"
      ]
    },
    {
      "cell_type": "code",
      "source": [
        "#Checking first image of test data\n",
        "print('Checking out first image and label of test data'); ('--'*30)\n",
        "plt.imshow(X_test[0], cmap = plt.cm.binary)\n",
        "plt.show()\n",
        "print('Label:', y_test_o[0])"
      ],
      "metadata": {
        "colab": {
          "base_uri": "https://localhost:8080/",
          "height": 466
        },
        "id": "BCfOf__VBEnm",
        "outputId": "8ff63567-8089-4e48-8483-7a3a8c1bf17e"
      },
      "execution_count": null,
      "outputs": [
        {
          "output_type": "stream",
          "name": "stdout",
          "text": [
            "Checking out first image and label of test data\n"
          ]
        },
        {
          "output_type": "display_data",
          "data": {
            "text/plain": [
              "<Figure size 640x480 with 1 Axes>"
            ],
            "image/png": "[encoded data removed]"
          },
          "metadata": {}
        },
        {
          "output_type": "stream",
          "name": "stdout",
          "text": [
            "Label: 1\n"
          ]
        }
      ]
    },
    {
      "cell_type": "markdown",
      "source": [
        "Let's realize that this may be a problem. We cannot make out the numbers clearly. We will need to address this later."
      ],
      "metadata": {
        "id": "2i-Aq4RYBPP8"
      }
    },
    {
      "cell_type": "markdown",
      "metadata": {
        "id": "f4CQkKtQ0XII"
      },
      "source": [
        "### **Normalize the train and the test data**"
      ]
    },
    {
      "cell_type": "code",
      "execution_count": null,
      "metadata": {
        "id": "q_yUUTp_mUzB",
        "colab": {
          "base_uri": "https://localhost:8080/"
        },
        "outputId": "10b72ed7-05a8-425b-cf69-7219ce52cc96"
      },
      "outputs": [
        {
          "output_type": "stream",
          "name": "stdout",
          "text": [
            "Reshaping the X data: (n, 32, 32) => (n, 1024)\n",
            "------------------------------------------------------------\n"
          ]
        }
      ],
      "source": [
        "#We need to normalize the train, test, and validation data and also reduce dimensionality or 'flatten' it to be able to work with Keras. It will need to be a 2D tensor to work. We have a 3D tensor currently.\n",
        "#Start with reshaping and normalization\n",
        "print('Reshaping the X data: (n, 32, 32) => (n, 1024)'); print('--'* 30)\n",
        "X_train = X_train.reshape((X_train.shape[0], -1))\n",
        "X_val = X_val.reshape((X_val.shape[0], -1))\n",
        "X_test = X_test.reshape((X_test.shape[0], -1))"
      ]
    },
    {
      "cell_type": "code",
      "source": [
        "#When we reshape, we do need to be sure we get float values so we can have accurate values later after the division takes place\n",
        "print('Assuring we get float value type to allow decimal points after division'); print('--'*30)\n",
        "X_train = X_train.astype('float32') #using float32 as type\n",
        "X_val = X_val.astype('float32')\n",
        "X_test = X_test.astype('float32')"
      ],
      "metadata": {
        "colab": {
          "base_uri": "https://localhost:8080/"
        },
        "id": "s7VpP3ELC12p",
        "outputId": "6c998217-4a94-48f0-e0a8-edf1b30d2989"
      },
      "execution_count": null,
      "outputs": [
        {
          "output_type": "stream",
          "name": "stdout",
          "text": [
            "Assuring we get float value type to allow decimal points after division\n",
            "------------------------------------------------------------\n"
          ]
        }
      ]
    },
    {
      "cell_type": "code",
      "source": [
        "print('Normalizing the RGB codes by dividing it to the max RGB value'); print('--'*30)\n",
        "X_train /= 255\n",
        "X_val /= 255\n",
        "X_test /= 255\n",
        "#Now we have reshaped and normalized the data"
      ],
      "metadata": {
        "colab": {
          "base_uri": "https://localhost:8080/"
        },
        "id": "X7jIU_VMDTds",
        "outputId": "d258c32d-bb8a-409b-c5e0-9871af23a692"
      },
      "execution_count": null,
      "outputs": [
        {
          "output_type": "stream",
          "name": "stdout",
          "text": [
            "Normalizing the RGB codes by dividing it to the max RGB value\n",
            "------------------------------------------------------------\n"
          ]
        }
      ]
    },
    {
      "cell_type": "markdown",
      "metadata": {
        "id": "YSlYN6pb8kMY"
      },
      "source": [
        "Print the shapes of Training and Test data"
      ]
    },
    {
      "cell_type": "code",
      "execution_count": null,
      "metadata": {
        "id": "t7FSqOpamWkH",
        "colab": {
          "base_uri": "https://localhost:8080/"
        },
        "outputId": "09295b05-3f65-4154-9e4c-d4a6920df20a"
      },
      "outputs": [
        {
          "output_type": "stream",
          "name": "stdout",
          "text": [
            "X_train shape: (42000, 1024)\n",
            "X_val shape: (60000, 1024)\n",
            "X_test shape: (18000, 1024)\n",
            "\n",
            "\n",
            "y_train shape: (42000,)\n",
            "y_val shape: (60000,)\n",
            "y_test shape: (18000,)\n",
            "\n",
            "\n",
            "Number of images in X_train 42000\n",
            "Number of images in X_val 60000\n",
            "Number of images in X_test 18000\n"
          ]
        }
      ],
      "source": [
        "print('X_train shape:', X_train.shape)\n",
        "print('X_val shape:', X_val.shape)\n",
        "print('X_test shape:', X_test.shape)\n",
        "\n",
        "print('\\n') #adding separation\n",
        "print('y_train shape:', y_train_o.shape)\n",
        "print('y_val shape:', y_val_o.shape)\n",
        "print('y_test shape:', y_test_o.shape)\n",
        "\n",
        "print('\\n') #adding separation\n",
        "print('Number of images in X_train', X_train.shape[0])\n",
        "print('Number of images in X_val', X_val.shape[0])\n",
        "print('Number of images in X_test', X_test.shape[0])"
      ]
    },
    {
      "cell_type": "markdown",
      "source": [
        "Now, we have successfully flattened the data from 32*32 to a squared version of 1024 in size. This is now a 2D tensor able to be fed to Keras."
      ],
      "metadata": {
        "id": "c1LFE2jfDljH"
      }
    },
    {
      "cell_type": "markdown",
      "metadata": {
        "id": "0uLxXBpz81vk"
      },
      "source": [
        "### **One-hot encode output**"
      ]
    },
    {
      "cell_type": "code",
      "execution_count": null,
      "metadata": {
        "id": "zL0lYER4sqWw",
        "colab": {
          "base_uri": "https://localhost:8080/"
        },
        "outputId": "91aaf315-ba65-48ae-fe54-05f64aed76d5"
      },
      "outputs": [
        {
          "output_type": "stream",
          "name": "stdout",
          "text": [
            "One-hot encoding the y data\n",
            "------------------------------------------------------------\n"
          ]
        }
      ],
      "source": [
        "#When we one-hot encode, we are going to convert the y data into categorical form\n",
        "print('One-hot encoding the y data'); print('--'*30)\n",
        "y_train = to_categorical(y_train_o)\n",
        "y_val = to_categorical(y_val_o)\n",
        "y_test = to_categorical(y_test_o)"
      ]
    },
    {
      "cell_type": "code",
      "source": [
        "#Now let's check data type\n",
        "y_train.dtype\n",
        "y_test.dtype\n",
        "y_val.dtype"
      ],
      "metadata": {
        "colab": {
          "base_uri": "https://localhost:8080/"
        },
        "id": "vu8HHcvaEDmZ",
        "outputId": "e2cb1be0-e945-4042-c10e-b26f90a2e34b"
      },
      "execution_count": null,
      "outputs": [
        {
          "output_type": "execute_result",
          "data": {
            "text/plain": [
              "dtype('float32')"
            ]
          },
          "metadata": {},
          "execution_count": 26
        }
      ]
    },
    {
      "cell_type": "code",
      "source": [
        "#Now let's call the data to see what we have done\n",
        "print('y Test Data:')\n",
        "print(y_test)\n",
        "print('--'*30)\n",
        "print('y Train Data:')\n",
        "print(y_train)\n",
        "print('--'*30)\n",
        "print('y Validation Data:')\n",
        "print(y_val)\n",
        "print('--'*30)"
      ],
      "metadata": {
        "colab": {
          "base_uri": "https://localhost:8080/"
        },
        "id": "gCYYpH9aEkdg",
        "outputId": "44a37e54-5284-45e1-8e09-22434632a552"
      },
      "execution_count": null,
      "outputs": [
        {
          "output_type": "stream",
          "name": "stdout",
          "text": [
            "y Test Data:\n",
            "[[0. 1. 0. ... 0. 0. 0.]\n",
            " [0. 0. 0. ... 1. 0. 0.]\n",
            " [0. 0. 1. ... 0. 0. 0.]\n",
            " ...\n",
            " [0. 0. 0. ... 1. 0. 0.]\n",
            " [0. 0. 0. ... 0. 0. 1.]\n",
            " [0. 0. 1. ... 0. 0. 0.]]\n",
            "------------------------------------------------------------\n",
            "y Train Data:\n",
            "[[0. 0. 1. ... 0. 0. 0.]\n",
            " [0. 0. 0. ... 0. 0. 0.]\n",
            " [0. 0. 0. ... 1. 0. 0.]\n",
            " ...\n",
            " [0. 0. 0. ... 1. 0. 0.]\n",
            " [1. 0. 0. ... 0. 0. 0.]\n",
            " [0. 0. 0. ... 0. 0. 0.]]\n",
            "------------------------------------------------------------\n",
            "y Validation Data:\n",
            "[[1. 0. 0. ... 0. 0. 0.]\n",
            " [1. 0. 0. ... 0. 0. 0.]\n",
            " [1. 0. 0. ... 0. 0. 0.]\n",
            " ...\n",
            " [0. 0. 0. ... 0. 0. 1.]\n",
            " [0. 0. 0. ... 0. 0. 1.]\n",
            " [0. 0. 0. ... 0. 0. 1.]]\n",
            "------------------------------------------------------------\n"
          ]
        }
      ]
    },
    {
      "cell_type": "markdown",
      "metadata": {
        "id": "ViqPOTquCF76"
      },
      "source": [
        "**Observation:**\n"
      ]
    },
    {
      "cell_type": "markdown",
      "source": [
        "Note that now the data contains decimals and is in a range 0:1. It is binary! And we can build a model with this data."
      ],
      "metadata": {
        "id": "bM8c9j6WD7Ue"
      }
    },
    {
      "cell_type": "markdown",
      "metadata": {
        "id": "yH-gVrzuByNA"
      },
      "source": [
        "## **Model Building**\n",
        "\n",
        "Now that we have done the data preprocessing, let's build an ANN model.\n",
        "\n",
        "### Fix the seed for random number generators"
      ]
    },
    {
      "cell_type": "code",
      "execution_count": null,
      "metadata": {
        "id": "BcKRwrGn0XIL"
      },
      "outputs": [],
      "source": [
        "#using numpy to randomize\n",
        "np.random.seed(42) #42 in homage to tradition. Let's see if it works.\n",
        "import random\n",
        "tf.random.set_seed(42)"
      ]
    },
    {
      "cell_type": "markdown",
      "metadata": {
        "id": "UJDUoaEj1d6e"
      },
      "source": [
        "### **Model Architecture**\n",
        "- Write a function that returns a sequential model with the following architecture:\n",
        " - First hidden layer with **64 nodes and the relu activation** and the **input shape = (1024, )**\n",
        " - Second hidden layer with **32 nodes and the relu activation**\n",
        " - Output layer with **activation as 'softmax' and number of nodes equal to the number of classes, i.e., 10**\n",
        " - Compile the model with the **loss equal to categorical_crossentropy, optimizer equal to Adam(learning_rate = 0.001), and metric equal to 'accuracy'**. Do not fit the model here, just return the compiled model.\n",
        "- Call the nn_model_1 function and store the model in a new variable.\n",
        "- Print the summary of the model.\n",
        "- Fit on the train data with a **validation split of 0.2, batch size = 128, verbose = 1, and epochs = 20**. Store the model building history to use later for visualization."
      ]
    },
    {
      "cell_type": "markdown",
      "metadata": {
        "id": "A48z6ucF0XIP"
      },
      "source": [
        "### **Build and train an ANN model as per the above mentioned architecture.**"
      ]
    },
    {
      "cell_type": "code",
      "execution_count": null,
      "metadata": {
        "id": "Cmi81Gr5sqW-"
      },
      "outputs": [],
      "source": [
        "#let's start with importing anything needed. I think losses and optimizers work here.\n",
        "from tensorflow.keras import losses\n",
        "from tensorflow.keras import optimizers"
      ]
    },
    {
      "cell_type": "code",
      "source": [
        "#Now, let's create our function for the specifications above\n",
        "def nn_model_1():\n",
        "  model = Sequential()\n",
        "  model.add(Dense(64, activation='relu', input_shape=(1024,)))\n",
        "  model.add(Dense(32, activation='relu'))\n",
        "  model.add(Dense(10, activation='softmax')) #This fits our criteria in the text above for adding the layers\n",
        "  #Next, let us add the optimizer Adam and set learning rate\n",
        "  adam = optimizers.Adam(learning_rate= 0.001) #this rate is the recommended rate from Python and TF\n",
        "  model.compile(loss = 'categorical_crossentropy', optimizer=adam, metrics=['accuracy']) #Now we have compiled the model according to specifications\n",
        "  #let's return the model in a new variable\n",
        "  return model\n"
      ],
      "metadata": {
        "id": "cLauRl_2IeU8"
      },
      "execution_count": null,
      "outputs": []
    },
    {
      "cell_type": "code",
      "source": [
        "model_one = nn_model_1() #new variable for model"
      ],
      "metadata": {
        "id": "o4bY3IBKKZhG"
      },
      "execution_count": null,
      "outputs": []
    },
    {
      "cell_type": "code",
      "source": [
        "#now we print summary\n",
        "model_one.summary()"
      ],
      "metadata": {
        "colab": {
          "base_uri": "https://localhost:8080/"
        },
        "id": "nwTJalqhKTUm",
        "outputId": "112df0b2-d4d7-42c1-b3fd-228bf0846a28"
      },
      "execution_count": null,
      "outputs": [
        {
          "output_type": "stream",
          "name": "stdout",
          "text": [
            "Model: \"sequential\"\n",
            "_________________________________________________________________\n",
            " Layer (type)                Output Shape              Param #   \n",
            "=================================================================\n",
            " dense (Dense)               (None, 64)                65600     \n",
            "                                                                 \n",
            " dense_1 (Dense)             (None, 32)                2080      \n",
            "                                                                 \n",
            " dense_2 (Dense)             (None, 10)                330       \n",
            "                                                                 \n",
            "=================================================================\n",
            "Total params: 68010 (265.66 KB)\n",
            "Trainable params: 68010 (265.66 KB)\n",
            "Non-trainable params: 0 (0.00 Byte)\n",
            "_________________________________________________________________\n"
          ]
        }
      ]
    },
    {
      "cell_type": "markdown",
      "source": [
        "From the summary, we see our shape for the layers 64, 32, 10, the number of parameters 65,600, 2080, and 330. We see the total parameters 68,010 is equal to the trainable parameters. We also see we have no non-trainable parameters."
      ],
      "metadata": {
        "id": "T3sdGkSNKk8i"
      }
    },
    {
      "cell_type": "code",
      "source": [
        "#Lastly, we are told to fit the model on the training data with a validation data split of 0.2, batch size = 128, verbose = 1, and epochs = 20.  And we need to store the model building history to use later for visualization.\n",
        "history_model_one = model_one.fit(X_train, y_train, validation_split=0.2, batch_size=128, verbose=1, epochs=20)"
      ],
      "metadata": {
        "colab": {
          "base_uri": "https://localhost:8080/"
        },
        "id": "bhdhX7GzK6N0",
        "outputId": "a13e8e90-2f35-420d-d312-679173e3091b"
      },
      "execution_count": null,
      "outputs": [
        {
          "output_type": "stream",
          "name": "stdout",
          "text": [
            "Epoch 1/20\n",
            "263/263 [==============================] - 3s 7ms/step - loss: 2.2911 - accuracy: 0.1247 - val_loss: 2.2364 - val_accuracy: 0.1589\n",
            "Epoch 2/20\n",
            "263/263 [==============================] - 2s 7ms/step - loss: 2.1265 - accuracy: 0.2261 - val_loss: 1.9530 - val_accuracy: 0.3081\n",
            "Epoch 3/20\n",
            "263/263 [==============================] - 2s 7ms/step - loss: 1.7912 - accuracy: 0.3792 - val_loss: 1.6654 - val_accuracy: 0.4305\n",
            "Epoch 4/20\n",
            "263/263 [==============================] - 1s 4ms/step - loss: 1.6055 - accuracy: 0.4527 - val_loss: 1.5517 - val_accuracy: 0.4871\n",
            "Epoch 5/20\n",
            "263/263 [==============================] - 1s 4ms/step - loss: 1.4987 - accuracy: 0.5002 - val_loss: 1.4506 - val_accuracy: 0.5210\n",
            "Epoch 6/20\n",
            "263/263 [==============================] - 1s 4ms/step - loss: 1.4146 - accuracy: 0.5385 - val_loss: 1.3762 - val_accuracy: 0.5610\n",
            "Epoch 7/20\n",
            "263/263 [==============================] - 1s 4ms/step - loss: 1.3568 - accuracy: 0.5648 - val_loss: 1.3215 - val_accuracy: 0.5830\n",
            "Epoch 8/20\n",
            "263/263 [==============================] - 1s 4ms/step - loss: 1.3010 - accuracy: 0.5879 - val_loss: 1.2783 - val_accuracy: 0.5974\n",
            "Epoch 9/20\n",
            "263/263 [==============================] - 1s 4ms/step - loss: 1.2524 - accuracy: 0.6072 - val_loss: 1.2231 - val_accuracy: 0.6187\n",
            "Epoch 10/20\n",
            "263/263 [==============================] - 1s 4ms/step - loss: 1.2102 - accuracy: 0.6225 - val_loss: 1.2137 - val_accuracy: 0.6196\n",
            "Epoch 11/20\n",
            "263/263 [==============================] - 1s 4ms/step - loss: 1.1879 - accuracy: 0.6324 - val_loss: 1.1709 - val_accuracy: 0.6400\n",
            "Epoch 12/20\n",
            "263/263 [==============================] - 2s 6ms/step - loss: 1.1566 - accuracy: 0.6416 - val_loss: 1.1500 - val_accuracy: 0.6485\n",
            "Epoch 13/20\n",
            "263/263 [==============================] - 2s 7ms/step - loss: 1.1315 - accuracy: 0.6529 - val_loss: 1.1264 - val_accuracy: 0.6537\n",
            "Epoch 14/20\n",
            "263/263 [==============================] - 2s 7ms/step - loss: 1.1202 - accuracy: 0.6561 - val_loss: 1.1431 - val_accuracy: 0.6460\n",
            "Epoch 15/20\n",
            "263/263 [==============================] - 2s 6ms/step - loss: 1.1024 - accuracy: 0.6640 - val_loss: 1.1129 - val_accuracy: 0.6583\n",
            "Epoch 16/20\n",
            "263/263 [==============================] - 1s 4ms/step - loss: 1.0882 - accuracy: 0.6690 - val_loss: 1.1216 - val_accuracy: 0.6493\n",
            "Epoch 17/20\n",
            "263/263 [==============================] - 1s 4ms/step - loss: 1.0693 - accuracy: 0.6767 - val_loss: 1.0882 - val_accuracy: 0.6712\n",
            "Epoch 18/20\n",
            "263/263 [==============================] - 1s 4ms/step - loss: 1.0555 - accuracy: 0.6817 - val_loss: 1.0675 - val_accuracy: 0.6783\n",
            "Epoch 19/20\n",
            "263/263 [==============================] - 1s 4ms/step - loss: 1.0465 - accuracy: 0.6852 - val_loss: 1.0556 - val_accuracy: 0.6821\n",
            "Epoch 20/20\n",
            "263/263 [==============================] - 1s 4ms/step - loss: 1.0386 - accuracy: 0.6874 - val_loss: 1.0451 - val_accuracy: 0.6856\n"
          ]
        }
      ]
    },
    {
      "cell_type": "markdown",
      "source": [
        "Each epoch ran in a range of 1-3 seconds. Accuracy wavered between 0.65 and 0.11. Validation loss was between 2.27 and 1.15, and validation accuracy was between 0.64 and 0.15."
      ],
      "metadata": {
        "id": "bkKwmNAmLXzC"
      }
    },
    {
      "cell_type": "markdown",
      "metadata": {
        "id": "MeF8XSWz0XIU"
      },
      "source": [
        "### **Plot the Training and Validation Accuracies and write down your Observations.**"
      ]
    },
    {
      "cell_type": "code",
      "execution_count": null,
      "metadata": {
        "id": "lt77zgGMP4yw"
      },
      "outputs": [],
      "source": [
        "#Let's make a dictionary of our history here and then look at the Training and Validation accuracies\n",
        "histdict = history_model_one.history\n",
        "#let's make a list of the 20 epochs now to and iterate\n",
        "list_ep = [i for i in range(1, 21)]"
      ]
    },
    {
      "cell_type": "code",
      "source": [
        "#Now let's plot this data\n",
        "plt.figure(figsize= (6, 6))\n",
        "plt.plot(list_ep, histdict['accuracy'], label = 'Training Accuracy')\n",
        "plt.plot(list_ep, histdict['val_accuracy'], label = 'Validation Accuracy')\n",
        "plt.ylabel('Accuracy')\n",
        "plt.xlabel('Epochs')\n",
        "plt.legend()\n",
        "plt.show()\n"
      ],
      "metadata": {
        "colab": {
          "base_uri": "https://localhost:8080/",
          "height": 542
        },
        "id": "XmbgKxmxMp99",
        "outputId": "2eebe9dd-3c6a-4f34-b157-883a15a471bd"
      },
      "execution_count": null,
      "outputs": [
        {
          "output_type": "display_data",
          "data": {
            "text/plain": [
              "<Figure size 600x600 with 1 Axes>"
            ],
            "image/png": "[encoded data removed]"
          },
          "metadata": {}
        }
      ]
    },
    {
      "cell_type": "markdown",
      "metadata": {
        "id": "pGBbQpLONX7k"
      },
      "source": [
        "**Observations: We saw above that the training accuracy seems to improve with each epoch, and the validation accuracy is more volatile with each epoch.\n",
        "The model is giving around ~62% accuracy at 20 epochs. At 20 epochs, the accuracy of the model on the training data as a whole is about 63% and the validation accuracy is ~62%.\n",
        "Maximum accuracy for both train and validation data for 20 Epochs is 62% which is an alright performance rate.\n",
        "The validation accuracy is closer to the training accuracy.\n",
        "\n",
        "This model has a generalized performance. Sometimes the accuracy goes as high as ~69% with different epochs, but to generally, this 62 to 63% approximation is best to go off of when using it**"
      ]
    },
    {
      "cell_type": "markdown",
      "metadata": {
        "id": "z0qgLMBZm5-K"
      },
      "source": [
        "Let's build one more model with higher complexity and see if we can improve the performance of the model.\n",
        "\n",
        "First, we need to clear the previous model's history from the Keras backend. Also, let's fix the seed again after clearing the backend."
      ]
    },
    {
      "cell_type": "code",
      "execution_count": null,
      "metadata": {
        "id": "I_ih3wEU9wIk"
      },
      "outputs": [],
      "source": [
        "#import what I need from Keras. In this case, I have found backend is good to use.\n",
        "from tensorflow.keras import backend\n",
        "\n",
        "backend.clear_session()"
      ]
    },
    {
      "cell_type": "code",
      "source": [
        "#Now we will fix the seed again at 42\n",
        "np.random.seed(42)\n",
        "import random\n",
        "tf.random.set_seed(42)"
      ],
      "metadata": {
        "id": "Z1_ssYUIPQLB"
      },
      "execution_count": null,
      "outputs": []
    },
    {
      "cell_type": "markdown",
      "metadata": {
        "id": "lT6o3TIKuCtk"
      },
      "source": [
        "### **Second Model Architecture**\n",
        "- Write a function that returns a sequential model with the following architecture:\n",
        " - First hidden layer with **256 nodes and the relu activation** and the **input shape = (1024, )**\n",
        " - Second hidden layer with **128 nodes and the relu activation**\n",
        " - Add the **Dropout layer with the rate equal to 0.2**\n",
        " - Third hidden layer with **64 nodes and the relu activation**\n",
        " - Fourth hidden layer with **64 nodes and the relu activation**\n",
        " - Fifth hidden layer with **32 nodes and the relu activation**\n",
        " - Add the **BatchNormalization layer**\n",
        " - Output layer with **activation as 'softmax' and number of nodes equal to the number of classes, i.e., 10**\n",
        " -Compile the model with the **loss equal to categorical_crossentropy, optimizer equal to Adam(learning_rate = 0.0005), and metric equal to 'accuracy'**. Do not fit the model here, just return the compiled model.\n",
        "- Call the nn_model_2 function and store the model in a new variable.\n",
        "- Print the summary of the model.\n",
        "- Fit on the train data with a **validation split of 0.2, batch size = 128, verbose = 1, and epochs = 30**. Store the model building history to use later for visualization."
      ]
    },
    {
      "cell_type": "markdown",
      "metadata": {
        "id": "f-ZjNBmH0XIV"
      },
      "source": [
        "### **Build and train the new ANN model as per the above mentioned architecture**"
      ]
    },
    {
      "cell_type": "code",
      "execution_count": null,
      "metadata": {
        "id": "EEPYLFIPnSDP"
      },
      "outputs": [],
      "source": [
        "#let's start with importing losses and optimizers again and then the new layers\n",
        "from tensorflow.keras import losses\n",
        "from tensorflow.keras import optimizers\n",
        "\n",
        "def nn_model_2():\n",
        "  model = Sequential()\n",
        "  model.add(Dense(256, activation='relu', input_shape=(1024,)))\n",
        "  model.add(Dense(128, activation='relu'))\n",
        "  model.add(Dropout(0.2)) #dropout layer\n",
        "  model.add(Dense(64, activation='relu'))\n",
        "  model.add(Dense(64, activation='relu'))\n",
        "  model.add(Dense(32, activation='relu'))\n",
        "  model.add(BatchNormalization())\n",
        "  model.add(Dense(10, activation='softmax')) #This fits our criteria in the text above for adding the layers\n",
        "  #Next, let us add the optimizer Adam and set learning rate\n",
        "  adam = optimizers.Adam(learning_rate= 0.0005) #this rate is the recommended rate from Python and TF\n",
        "  model.compile(loss = 'categorical_crossentropy', optimizer=adam, metrics=['accuracy']) #Now we have compiled the model according to specifications\n",
        "  #let's return the model in a new variable\n",
        "  return model"
      ]
    },
    {
      "cell_type": "code",
      "source": [
        "model_two = nn_model_2()\n",
        "model_two.summary() #saving model to a variable and getting summary again"
      ],
      "metadata": {
        "colab": {
          "base_uri": "https://localhost:8080/"
        },
        "id": "oBauLtVLQpQh",
        "outputId": "2af989a4-fefa-49d6-df0b-f4930f74f67e"
      },
      "execution_count": null,
      "outputs": [
        {
          "output_type": "stream",
          "name": "stdout",
          "text": [
            "Model: \"sequential\"\n",
            "_________________________________________________________________\n",
            " Layer (type)                Output Shape              Param #   \n",
            "=================================================================\n",
            " dense (Dense)               (None, 256)               262400    \n",
            "                                                                 \n",
            " dense_1 (Dense)             (None, 128)               32896     \n",
            "                                                                 \n",
            " dropout (Dropout)           (None, 128)               0         \n",
            "                                                                 \n",
            " dense_2 (Dense)             (None, 64)                8256      \n",
            "                                                                 \n",
            " dense_3 (Dense)             (None, 64)                4160      \n",
            "                                                                 \n",
            " dense_4 (Dense)             (None, 32)                2080      \n",
            "                                                                 \n",
            " batch_normalization (Batch  (None, 32)                128       \n",
            " Normalization)                                                  \n",
            "                                                                 \n",
            " dense_5 (Dense)             (None, 10)                330       \n",
            "                                                                 \n",
            "=================================================================\n",
            "Total params: 310250 (1.18 MB)\n",
            "Trainable params: 310186 (1.18 MB)\n",
            "Non-trainable params: 64 (256.00 Byte)\n",
            "_________________________________________________________________\n"
          ]
        }
      ]
    },
    {
      "cell_type": "markdown",
      "source": [
        "Total params: 310,250\n",
        "Trainable params: 310,186\n",
        "Non-trainable params: 64\n",
        "____________________________"
      ],
      "metadata": {
        "id": "YhyZSuPjQ66i"
      }
    },
    {
      "cell_type": "code",
      "source": [
        "#Now we will fit the new model with a validation split of 0.2, batch size = 128, verbose = 1, and epochs = 30. Store the model building history to use later for visualization.\n",
        "history_model_two = model_two.fit(X_train, y_train, validation_split=0.2, batch_size=128, verbose=1, epochs=30)"
      ],
      "metadata": {
        "colab": {
          "base_uri": "https://localhost:8080/"
        },
        "id": "wIr-VIErQ_NS",
        "outputId": "eda357ef-16c1-408a-eec3-6bdc7f45bb39"
      },
      "execution_count": null,
      "outputs": [
        {
          "output_type": "stream",
          "name": "stdout",
          "text": [
            "Epoch 1/30\n",
            "263/263 [==============================] - 6s 17ms/step - loss: 2.3580 - accuracy: 0.0988 - val_loss: 2.3083 - val_accuracy: 0.1051\n",
            "Epoch 2/30\n",
            "263/263 [==============================] - 3s 10ms/step - loss: 2.3042 - accuracy: 0.1071 - val_loss: 2.2957 - val_accuracy: 0.1202\n",
            "Epoch 3/30\n",
            "263/263 [==============================] - 2s 9ms/step - loss: 2.1574 - accuracy: 0.1810 - val_loss: 2.0680 - val_accuracy: 0.2590\n",
            "Epoch 4/30\n",
            "263/263 [==============================] - 3s 10ms/step - loss: 1.8273 - accuracy: 0.3427 - val_loss: 1.6682 - val_accuracy: 0.4410\n",
            "Epoch 5/30\n",
            "263/263 [==============================] - 2s 9ms/step - loss: 1.5256 - accuracy: 0.4852 - val_loss: 1.3882 - val_accuracy: 0.5338\n",
            "Epoch 6/30\n",
            "263/263 [==============================] - 4s 16ms/step - loss: 1.3376 - accuracy: 0.5538 - val_loss: 1.2510 - val_accuracy: 0.5867\n",
            "Epoch 7/30\n",
            "263/263 [==============================] - 3s 12ms/step - loss: 1.2436 - accuracy: 0.5908 - val_loss: 1.1652 - val_accuracy: 0.6179\n",
            "Epoch 8/30\n",
            "263/263 [==============================] - 3s 11ms/step - loss: 1.1854 - accuracy: 0.6087 - val_loss: 1.1454 - val_accuracy: 0.6304\n",
            "Epoch 9/30\n",
            "263/263 [==============================] - 2s 9ms/step - loss: 1.1419 - accuracy: 0.6291 - val_loss: 1.0851 - val_accuracy: 0.6449\n",
            "Epoch 10/30\n",
            "263/263 [==============================] - 3s 12ms/step - loss: 1.1095 - accuracy: 0.6410 - val_loss: 1.0526 - val_accuracy: 0.6608\n",
            "Epoch 11/30\n",
            "263/263 [==============================] - 4s 14ms/step - loss: 1.0848 - accuracy: 0.6512 - val_loss: 1.0375 - val_accuracy: 0.6660\n",
            "Epoch 12/30\n",
            "263/263 [==============================] - 2s 9ms/step - loss: 1.0543 - accuracy: 0.6603 - val_loss: 1.0869 - val_accuracy: 0.6505\n",
            "Epoch 13/30\n",
            "263/263 [==============================] - 2s 9ms/step - loss: 1.0302 - accuracy: 0.6691 - val_loss: 0.9947 - val_accuracy: 0.6781\n",
            "Epoch 14/30\n",
            "263/263 [==============================] - 2s 9ms/step - loss: 1.0190 - accuracy: 0.6735 - val_loss: 0.9940 - val_accuracy: 0.6776\n",
            "Epoch 15/30\n",
            "263/263 [==============================] - 3s 10ms/step - loss: 1.0017 - accuracy: 0.6786 - val_loss: 0.9323 - val_accuracy: 0.7063\n",
            "Epoch 16/30\n",
            "263/263 [==============================] - 4s 16ms/step - loss: 0.9766 - accuracy: 0.6890 - val_loss: 0.9457 - val_accuracy: 0.7024\n",
            "Epoch 17/30\n",
            "263/263 [==============================] - 2s 9ms/step - loss: 0.9535 - accuracy: 0.6963 - val_loss: 0.9051 - val_accuracy: 0.7174\n",
            "Epoch 18/30\n",
            "263/263 [==============================] - 2s 9ms/step - loss: 0.9406 - accuracy: 0.7016 - val_loss: 0.9167 - val_accuracy: 0.7067\n",
            "Epoch 19/30\n",
            "263/263 [==============================] - 3s 10ms/step - loss: 0.9317 - accuracy: 0.7027 - val_loss: 0.9587 - val_accuracy: 0.6862\n",
            "Epoch 20/30\n",
            "263/263 [==============================] - 2s 9ms/step - loss: 0.9163 - accuracy: 0.7104 - val_loss: 0.8617 - val_accuracy: 0.7298\n",
            "Epoch 21/30\n",
            "263/263 [==============================] - 4s 15ms/step - loss: 0.9061 - accuracy: 0.7129 - val_loss: 0.8750 - val_accuracy: 0.7257\n",
            "Epoch 22/30\n",
            "263/263 [==============================] - 3s 12ms/step - loss: 0.8989 - accuracy: 0.7128 - val_loss: 0.9092 - val_accuracy: 0.7087\n",
            "Epoch 23/30\n",
            "263/263 [==============================] - 2s 9ms/step - loss: 0.8817 - accuracy: 0.7201 - val_loss: 0.9108 - val_accuracy: 0.7125\n",
            "Epoch 24/30\n",
            "263/263 [==============================] - 3s 10ms/step - loss: 0.8776 - accuracy: 0.7182 - val_loss: 0.8881 - val_accuracy: 0.7089\n",
            "Epoch 25/30\n",
            "263/263 [==============================] - 2s 9ms/step - loss: 0.8698 - accuracy: 0.7221 - val_loss: 0.8320 - val_accuracy: 0.7389\n",
            "Epoch 26/30\n",
            "263/263 [==============================] - 4s 14ms/step - loss: 0.8609 - accuracy: 0.7265 - val_loss: 0.8589 - val_accuracy: 0.7301\n",
            "Epoch 27/30\n",
            "263/263 [==============================] - 3s 12ms/step - loss: 0.8491 - accuracy: 0.7300 - val_loss: 0.8319 - val_accuracy: 0.7369\n",
            "Epoch 28/30\n",
            "263/263 [==============================] - 3s 10ms/step - loss: 0.8427 - accuracy: 0.7321 - val_loss: 0.8500 - val_accuracy: 0.7332\n",
            "Epoch 29/30\n",
            "263/263 [==============================] - 2s 9ms/step - loss: 0.8413 - accuracy: 0.7333 - val_loss: 0.8346 - val_accuracy: 0.7337\n",
            "Epoch 30/30\n",
            "263/263 [==============================] - 2s 9ms/step - loss: 0.8333 - accuracy: 0.7349 - val_loss: 0.8473 - val_accuracy: 0.7339\n"
          ]
        }
      ]
    },
    {
      "cell_type": "markdown",
      "metadata": {
        "id": "ZJYsvjmw0XIX"
      },
      "source": [
        "### **Plot the Training and Validation Accuracies and write down your Observations.**"
      ]
    },
    {
      "cell_type": "code",
      "source": [
        "#Doing it all again baby\n",
        "histdict2 = history_model_two.history\n",
        "list_ep = [i for i in range(1,31)]\n",
        "\n",
        "plt.figure(figsize = (6,6))\n",
        "plt.plot(list_ep,histdict2['accuracy'],ls = '--', label = 'accuracy')\n",
        "plt.plot(list_ep,histdict2['val_accuracy'],ls = '--', label = 'val_accuracy')\n",
        "plt.ylabel('Accuracy')\n",
        "plt.xlabel('Epochs')\n",
        "plt.legend()\n",
        "plt.show()"
      ],
      "metadata": {
        "colab": {
          "base_uri": "https://localhost:8080/",
          "height": 542
        },
        "id": "KWFeYuINRpCW",
        "outputId": "81c779d0-9df0-4ccf-d661-be8570659f99"
      },
      "execution_count": null,
      "outputs": [
        {
          "output_type": "display_data",
          "data": {
            "text/plain": [
              "<Figure size 600x600 with 1 Axes>"
            ],
            "image/png": "[encoded data removed]"
          },
          "metadata": {}
        }
      ]
    },
    {
      "cell_type": "markdown",
      "metadata": {
        "id": "VPW1LlD61RDn"
      },
      "source": [
        "**Observations:OKAY, so..it's not great. BUT, it is better. We should work to keep improving the model.\n",
        "I notice immediately, that the accuracy is better than the first model. The increase in accuracy is quicker this time as well. We jump from ~10% accuracy on the first 3-4 epochs to ~65% accuracy within the fitst 8-10 epochs for both accuracy and validation accuracy. There is continued volatility in validation accuracy, but it is less extreme in this model compared to the fist model. Overall, this is a large improvement with ~73% or ~75% accuracy generally speaking**"
      ]
    },
    {
      "cell_type": "markdown",
      "metadata": {
        "id": "8kuXx9Bvu00f"
      },
      "source": [
        "## **Predictions on the test data**\n",
        "\n",
        "- Make predictions on the test set using the second model.\n",
        "- Print the obtained results using the classification report and the confusion matrix.\n",
        "- Final observations on the obtained results."
      ]
    },
    {
      "cell_type": "code",
      "execution_count": null,
      "metadata": {
        "id": "xbWMEtTj5Ad0",
        "colab": {
          "base_uri": "https://localhost:8080/"
        },
        "outputId": "f480745b-870c-4ca0-d2ce-b9436cf3fae7"
      },
      "outputs": [
        {
          "output_type": "stream",
          "name": "stdout",
          "text": [
            "563/563 [==============================] - 1s 2ms/step\n"
          ]
        }
      ],
      "source": [
        "predictions_test = model_two.predict(X_test) #prediction\n",
        "predictions_test = np.argmax(predictions_test, axis=1) #find max values along axis 1 of predictions\n"
      ]
    },
    {
      "cell_type": "markdown",
      "metadata": {
        "id": "i3li8Ib08yts"
      },
      "source": [
        "**Note:** Earlier, we noticed that each entry of the target variable is a one-hot encoded vector but to print the classification report and confusion matrix, we must convert each entry of y_test to a single label."
      ]
    },
    {
      "cell_type": "code",
      "execution_count": null,
      "metadata": {
        "id": "NByu7uAQ8x9P"
      },
      "outputs": [],
      "source": [
        "#converting one-hot encoded vectors to single label. Use argmax for this too but axis is -1.\n",
        "y_test = np.argmax(y_test, axis= -1)"
      ]
    },
    {
      "cell_type": "markdown",
      "metadata": {
        "id": "1_SIoopr0XIg"
      },
      "source": [
        "### **Print the classification report and the confusion matrix for the test predictions. Write your observations on the final results.**"
      ]
    },
    {
      "cell_type": "code",
      "execution_count": null,
      "metadata": {
        "id": "xRddeJ-3EHT1",
        "colab": {
          "base_uri": "https://localhost:8080/"
        },
        "outputId": "7517c9ec-dc90-4c74-b6d8-083aec2fe350"
      },
      "outputs": [
        {
          "output_type": "stream",
          "name": "stdout",
          "text": [
            "              precision    recall  f1-score   support\n",
            "\n",
            "           0       0.74      0.74      0.74      1814\n",
            "           1       0.70      0.79      0.74      1828\n",
            "           2       0.80      0.75      0.77      1803\n",
            "           3       0.71      0.69      0.70      1719\n",
            "           4       0.69      0.82      0.75      1812\n",
            "           5       0.71      0.63      0.67      1768\n",
            "           6       0.75      0.71      0.73      1832\n",
            "           7       0.77      0.78      0.78      1808\n",
            "           8       0.68      0.72      0.70      1812\n",
            "           9       0.76      0.67      0.71      1804\n",
            "\n",
            "    accuracy                           0.73     18000\n",
            "   macro avg       0.73      0.73      0.73     18000\n",
            "weighted avg       0.73      0.73      0.73     18000\n",
            "\n"
          ]
        }
      ],
      "source": [
        "#Let's import what we need to do this work\n",
        "from sklearn.metrics import classification_report #classification report\n",
        "from sklearn.metrics import confusion_matrix #confusion matrix\n",
        "\n",
        "#Next, let us print the report\n",
        "print(classification_report(y_test, predictions_test))\n"
      ]
    },
    {
      "cell_type": "code",
      "source": [
        "#Now bring in the confusion matrix using predicted labels and our actual labels\n",
        "confusionm = confusion_matrix(y_test, predictions_test)\n"
      ],
      "metadata": {
        "id": "AbJycUXgWao0"
      },
      "execution_count": null,
      "outputs": []
    },
    {
      "cell_type": "code",
      "source": [
        "#Finally, let's plot it to get observations.\n",
        "plt.figure(figsize=(10,7))\n",
        "sns.heatmap(confusionm, annot=True, fmt='.0f') #use heatmap because we are looking at a matrix\n",
        "plt.ylabel('Actual')\n",
        "plt.xlabel('Predicted')\n",
        "plt.show()"
      ],
      "metadata": {
        "colab": {
          "base_uri": "https://localhost:8080/",
          "height": 619
        },
        "id": "7PO_-kAxWkub",
        "outputId": "f88e24e9-86c5-4d62-880d-363025b00105"
      },
      "execution_count": null,
      "outputs": [
        {
          "output_type": "display_data",
          "data": {
            "text/plain": [
              "<Figure size 1000x700 with 2 Axes>"
            ],
            "image/png": "[encoded data removed]"
          },
          "metadata": {}
        }
      ]
    },
    {
      "cell_type": "markdown",
      "source": [
        "Observations: The model is offering ~76% accuracy on the test data according to this report. The recall range is high. If you remove outliers, it is ~72% to ~83% (low ~67%, high ~83%).\n",
        "So this tells us the model identifies some objects very well such as object 4, but it is not quite there with our 'outliers' objects 3 and 8. But generally, the model can distinguish items fairly well."
      ],
      "metadata": {
        "id": "uiGmsKSnX0AT"
      }
    },
    {
      "cell_type": "code",
      "source": [
        "from tensorflow.keras import backend #clearing session\n",
        "backend.clear_session()"
      ],
      "metadata": {
        "id": "cAOBL7Q4ZO7s"
      },
      "execution_count": null,
      "outputs": []
    },
    {
      "cell_type": "markdown",
      "metadata": {
        "id": "xkR4JioMsuIV"
      },
      "source": [
        "## **Using Convolutional Neural Networks**"
      ]
    },
    {
      "cell_type": "markdown",
      "metadata": {
        "id": "YN2YgkGL_6xQ"
      },
      "source": [
        "### **Load the dataset again and split the data into the train and the test dataset.**"
      ]
    },
    {
      "cell_type": "code",
      "execution_count": null,
      "metadata": {
        "id": "mqM204HbAjP2",
        "scrolled": true
      },
      "outputs": [],
      "source": [
        "#This should go more quickly, since we have done this all before.\n",
        "#Load it all back in!\n",
        "\n",
        "#importing all packages I need or may need for the work\n",
        "import pandas as pd\n",
        "import numpy as np\n",
        "import matplotlib.pyplot as plt\n",
        "import seaborn as sns\n",
        "import h5py\n",
        "import tensorflow as tf\n",
        "import keras\n",
        "from sklearn.metrics import (\n",
        "    classification_report,\n",
        "    accuracy_score,\n",
        "    confusion_matrix,\n",
        "    precision_score,\n",
        "    recall_score,\n",
        "    f1_score,\n",
        "    precision_recall_curve,\n",
        "    auc,\n",
        ")\n",
        "#import what I need from TF and Keras\n",
        "from tensorflow.keras.layers import (Dense, Dropout, BatchNormalization)\n",
        "from tensorflow.keras.layers import (Activation, Dense)\n",
        "from tensorflow.keras.utils import to_categorical\n",
        "from tensorflow.keras.models import Sequential\n",
        "from tensorflow.keras import optimizers"
      ]
    },
    {
      "cell_type": "code",
      "source": [
        "from google.colab import drive\n",
        "drive.mount('/content/drive')"
      ],
      "metadata": {
        "colab": {
          "base_uri": "https://localhost:8080/"
        },
        "id": "79a_MApUTaEv",
        "outputId": "9ad06961-5016-4b32-86ea-00757abe8071"
      },
      "execution_count": null,
      "outputs": [
        {
          "output_type": "stream",
          "name": "stdout",
          "text": [
            "Drive already mounted at /content/drive; to attempt to forcibly remount, call drive.mount(\"/content/drive\", force_remount=True).\n"
          ]
        }
      ]
    },
    {
      "cell_type": "code",
      "source": [
        "#I will assign the file to a variable for easier access and load it\n",
        "h5data2 = ('/content/drive/MyDrive/Deep Learning/SVHN_single_grey1.h5')\n",
        "h5data2 = h5py.File(h5data2, 'r') #reading file\n",
        "#let's load the keys of the dataset\n",
        "h5data2.keys()"
      ],
      "metadata": {
        "colab": {
          "base_uri": "https://localhost:8080/"
        },
        "id": "NNBWQShXZw7r",
        "outputId": "a1328ab5-fd7e-4828-d996-e70413384c1d"
      },
      "execution_count": null,
      "outputs": [
        {
          "output_type": "execute_result",
          "data": {
            "text/plain": [
              "<KeysViewHDF5 ['X_test', 'X_train', 'X_val', 'y_test', 'y_train', 'y_val']>"
            ]
          },
          "metadata": {},
          "execution_count": 225
        }
      ]
    },
    {
      "cell_type": "code",
      "source": [
        "X_train = h5data2['X_train'][:]\n",
        "y_train = h5data2['y_train'][:]\n",
        "X_test = h5data2['X_test'][:]\n",
        "y_test = h5data2['y_test'][:]\n",
        "\n",
        "\n",
        "# Close this file\n",
        "h5data2.close()"
      ],
      "metadata": {
        "id": "mgc8yUY7aB9V"
      },
      "execution_count": null,
      "outputs": []
    },
    {
      "cell_type": "markdown",
      "metadata": {
        "id": "6fPqF_xGAjQB"
      },
      "source": [
        "Check the number of images in the training and the testing dataset."
      ]
    },
    {
      "cell_type": "code",
      "execution_count": null,
      "metadata": {
        "id": "gTLJZWjPAjQB",
        "colab": {
          "base_uri": "https://localhost:8080/"
        },
        "outputId": "909c432d-461b-4f3a-91f0-68168a4c84c6"
      },
      "outputs": [
        {
          "output_type": "stream",
          "name": "stdout",
          "text": [
            "42000\n",
            "18000\n",
            "42000\n",
            "18000\n"
          ]
        }
      ],
      "source": [
        "#Let's try and simplify what we did last time by just going step by step. Let's get the length.\n",
        "print(len(X_train))\n",
        "print(len(X_test))\n",
        "print(len(y_train))\n",
        "print(len(y_test))"
      ]
    },
    {
      "cell_type": "markdown",
      "metadata": {
        "id": "9qyMiP_rAjQB"
      },
      "source": [
        "**Observation: We got 42,000 images in the training data and 18,000 images in the test data**"
      ]
    },
    {
      "cell_type": "markdown",
      "metadata": {
        "id": "OJndFfEVAjQG"
      },
      "source": [
        "## **Data preparation**\n",
        "\n",
        "- Print the shape and the array of pixels for the first image in the training dataset.\n",
        "- Reshape the train and the test dataset because we always have to give a 4D array as input to CNNs.\n",
        "- Normalize the train and the test dataset by dividing by 255.\n",
        "- Print the new shapes of the train and the test dataset.\n",
        "- One-hot encode the target variable."
      ]
    },
    {
      "cell_type": "code",
      "source": [
        "# Shape of the images and the first image\n",
        "\n",
        "print(\"Shape:\", X_train[0].shape)\n",
        "print()\n",
        "print(\"First image:\\n\", X_train[0])"
      ],
      "metadata": {
        "colab": {
          "base_uri": "https://localhost:8080/"
        },
        "id": "YjiB-uczYWjj",
        "outputId": "5d5c74ee-d732-435f-9126-5faf21a4dcc2"
      },
      "execution_count": null,
      "outputs": [
        {
          "output_type": "stream",
          "name": "stdout",
          "text": [
            "Shape: (32, 32)\n",
            "\n",
            "First image:\n",
            " [[ 33.0704  30.2601  26.852  ...  71.4471  58.2204  42.9939]\n",
            " [ 25.2283  25.5533  29.9765 ... 113.0209 103.3639  84.2949]\n",
            " [ 26.2775  22.6137  40.4763 ... 113.3028 121.775  115.4228]\n",
            " ...\n",
            " [ 28.5502  36.212   45.0801 ...  24.1359  25.0927  26.0603]\n",
            " [ 38.4352  26.4733  23.2717 ...  28.1094  29.4683  30.0661]\n",
            " [ 50.2984  26.0773  24.0389 ...  49.6682  50.853   53.0377]]\n"
          ]
        }
      ]
    },
    {
      "cell_type": "markdown",
      "metadata": {
        "id": "at30iiX1__7F"
      },
      "source": [
        "Reshape the dataset to be able to pass them to CNNs. Remember that we always have to give a 4D array as input to CNNs"
      ]
    },
    {
      "cell_type": "code",
      "source": [
        "#Reshaping the dataset to flatten them. Remember that we always have to give a 4D array as input to CNNs\n",
        "\n",
        "X_train = X_train.reshape(X_train.shape[0], 32,32,1)\n",
        "X_test = X_test.reshape(X_test.shape[0], 32,32,1)\n"
      ],
      "metadata": {
        "id": "HO7ql0vXYelB"
      },
      "execution_count": null,
      "outputs": []
    },
    {
      "cell_type": "markdown",
      "metadata": {
        "id": "ODYnoLfaAEGx"
      },
      "source": [
        "Normalize inputs from 0-255 to 0-1"
      ]
    },
    {
      "cell_type": "code",
      "execution_count": null,
      "metadata": {
        "id": "eOGLAn40AjQG"
      },
      "outputs": [],
      "source": [
        "# Normalize inputs from 0-255 to 0-1\n",
        "\n",
        "X_train = X_train / 255.0\n",
        "X_test = X_test / 255.0"
      ]
    },
    {
      "cell_type": "markdown",
      "metadata": {
        "id": "cS9T4HqjAoyM"
      },
      "source": [
        "Print New shape of Training and Test"
      ]
    },
    {
      "cell_type": "code",
      "execution_count": null,
      "metadata": {
        "id": "5qf8S5NQAjQG",
        "colab": {
          "base_uri": "https://localhost:8080/"
        },
        "outputId": "46b5c65d-9a21-4613-b416-391ae5f92977"
      },
      "outputs": [
        {
          "output_type": "stream",
          "name": "stdout",
          "text": [
            "Training set: (42000, 32, 32, 1) (42000,)\n",
            "Test set: (18000, 32, 32, 1) (18000,)\n"
          ]
        }
      ],
      "source": [
        "#New shape!\n",
        "\n",
        "print('Training set:', X_train.shape, y_train.shape)\n",
        "print('Test set:', X_test.shape, y_test.shape)"
      ]
    },
    {
      "cell_type": "markdown",
      "metadata": {
        "id": "10QaOV-xR7Jn"
      },
      "source": [
        "### **One-hot encode the labels in the target variable y_train and y_test.**"
      ]
    },
    {
      "cell_type": "code",
      "execution_count": null,
      "metadata": {
        "id": "3KHWFWKMAjQH",
        "colab": {
          "base_uri": "https://localhost:8080/"
        },
        "outputId": "0941459f-92e4-42a8-acc4-c42e2c2cc51b"
      },
      "outputs": [
        {
          "output_type": "stream",
          "name": "stdout",
          "text": [
            "One-hot encoding the y data\n",
            "------------------------------------------------------------\n"
          ]
        },
        {
          "output_type": "execute_result",
          "data": {
            "text/plain": [
              "array([1, 7, 2, ..., 7, 9, 2], dtype=uint8)"
            ]
          },
          "metadata": {},
          "execution_count": 232
        }
      ],
      "source": [
        "#When we one-hot encode, we are going to convert the y data into categorical form\n",
        "print('One-hot encoding the y data'); print('--'*30)\n",
        "y_train_encoded = tf.keras.utils.to_categorical(y_train)\n",
        "y_test_encoded = tf.keras.utils.to_categorical(y_test)\n",
        "\n",
        "#test it out to see if it worked\n",
        "y_test"
      ]
    },
    {
      "cell_type": "markdown",
      "source": [
        "Observation: y_test is now a one-hot encoded vector not just a single label at each entry"
      ],
      "metadata": {
        "id": "TccH8XkPfQu1"
      }
    },
    {
      "cell_type": "markdown",
      "metadata": {
        "id": "Vjx_LI4_AjQH"
      },
      "source": [
        "## **Model Building**\n",
        "\n",
        "Now that we have done data preprocessing, let's build a CNN model.\n",
        "Fix the seed for random number generators"
      ]
    },
    {
      "cell_type": "code",
      "execution_count": null,
      "metadata": {
        "id": "ZY5pyF4-KDNt"
      },
      "outputs": [],
      "source": [
        "#Let's set the seed again at 42\n",
        "np.random.seed(42)\n",
        "import random\n",
        "random.seed(42)\n",
        "tf.random.set_seed(42)"
      ]
    },
    {
      "cell_type": "markdown",
      "metadata": {
        "id": "1JUAczhzAjQH"
      },
      "source": [
        "### **Model Architecture**\n",
        "- **Write a function** that returns a sequential model with the following architecture:\n",
        " - First Convolutional layer with **16 filters and the kernel size of 3x3**. Use the **'same' padding** and provide the **input shape = (32, 32, 1)**\n",
        " - Add a **LeakyRelu layer** with the **slope equal to 0.1**\n",
        " - Second Convolutional layer with **32 filters and the kernel size of 3x3 with 'same' padding**\n",
        " - Another **LeakyRelu** with the **slope equal to 0.1**\n",
        " - A **max-pooling layer** with a **pool size of 2x2**\n",
        " - **Flatten** the output from the previous layer\n",
        " - Add a **dense layer with 32 nodes**\n",
        " - Add a **LeakyRelu layer with the slope equal to 0.1**\n",
        " - Add the final **output layer with nodes equal to the number of classes, i.e., 10** and **'softmax' as the activation function**\n",
        " - Compile the model with the **loss equal to categorical_crossentropy, optimizer equal to Adam(learning_rate = 0.001), and metric equal to 'accuracy'**. Do not fit the model here, just return the compiled model.\n",
        "- Call the function cnn_model_1 and store the output in a new variable.\n",
        "- Print the summary of the model.\n",
        "- Fit the model on the training data with a **validation split of 0.2, batch size = 32, verbose = 1, and epochs = 20**. Store the model building history to use later for visualization."
      ]
    },
    {
      "cell_type": "markdown",
      "metadata": {
        "id": "JWsAd45JKDNu"
      },
      "source": [
        "### **Build and train a CNN model as per the above mentioned architecture.**"
      ]
    },
    {
      "cell_type": "code",
      "execution_count": null,
      "metadata": {
        "id": "L1jOYANWAjQH"
      },
      "outputs": [],
      "source": [
        "#Importing our old friends losses and optimizers and other modules we need\n",
        "from tensorflow.keras import losses\n",
        "from tensorflow.keras import optimizers\n",
        "from tensorflow.keras.layers import (Conv2D, LeakyReLU, MaxPool2D, Flatten, Dense) #add modules I needed"
      ]
    },
    {
      "cell_type": "code",
      "source": [
        "\n",
        "#Define the function\n",
        "def cnn_model_1():\n",
        "    model = Sequential()\n",
        "    #Add layers as per the architecture mentioned above in the same sequence\n",
        "    model.add(Conv2D(filters=16, kernel_size=(3, 3), padding=\"same\", input_shape=(32, 32, 1)))\n",
        "    model.add(LeakyReLU(0.1))\n",
        "    model.add(Conv2D(filters=32, kernel_size=(3, 3), padding=\"same\"))\n",
        "    model.add(LeakyReLU(0.1))\n",
        "    model.add(MaxPool2D(pool_size=(2, 2)))\n",
        "    model.add(Flatten())\n",
        "    model.add(Dense(32))\n",
        "    model.add(LeakyReLU(0.1))\n",
        "    model.add(Dense(10, activation='softmax'))\n",
        "    #declare adam optimizer with learning rate of 0.001\n",
        "    adam = optimizers.Adam(learning_rate = 0.001)\n",
        "\n",
        "    #compile the model\n",
        "    model.compile(\n",
        "        loss='categorical_crossentropy',\n",
        "        optimizer=adam,\n",
        "        metrics=['accuracy']\n",
        "    )\n",
        "\n",
        "    return model"
      ],
      "metadata": {
        "id": "HsFnxH-QfiaJ"
      },
      "execution_count": null,
      "outputs": []
    },
    {
      "cell_type": "code",
      "source": [
        "model_1 = cnn_model_1() #variable for model\n",
        "model_1.summary() #summary"
      ],
      "metadata": {
        "colab": {
          "base_uri": "https://localhost:8080/"
        },
        "id": "jJJGn1mAXTnI",
        "outputId": "24f993f6-0aff-48bb-f693-256ef205caf6"
      },
      "execution_count": null,
      "outputs": [
        {
          "output_type": "stream",
          "name": "stdout",
          "text": [
            "Model: \"sequential\"\n",
            "_________________________________________________________________\n",
            " Layer (type)                Output Shape              Param #   \n",
            "=================================================================\n",
            " conv2d (Conv2D)             (None, 32, 32, 16)        160       \n",
            "                                                                 \n",
            " leaky_re_lu (LeakyReLU)     (None, 32, 32, 16)        0         \n",
            "                                                                 \n",
            " conv2d_1 (Conv2D)           (None, 32, 32, 32)        4640      \n",
            "                                                                 \n",
            " leaky_re_lu_1 (LeakyReLU)   (None, 32, 32, 32)        0         \n",
            "                                                                 \n",
            " max_pooling2d (MaxPooling2  (None, 16, 16, 32)        0         \n",
            " D)                                                              \n",
            "                                                                 \n",
            " flatten (Flatten)           (None, 8192)              0         \n",
            "                                                                 \n",
            " dense (Dense)               (None, 32)                262176    \n",
            "                                                                 \n",
            " leaky_re_lu_2 (LeakyReLU)   (None, 32)                0         \n",
            "                                                                 \n",
            " dense_1 (Dense)             (None, 10)                330       \n",
            "                                                                 \n",
            "=================================================================\n",
            "Total params: 267306 (1.02 MB)\n",
            "Trainable params: 267306 (1.02 MB)\n",
            "Non-trainable params: 0 (0.00 Byte)\n",
            "_________________________________________________________________\n"
          ]
        }
      ]
    },
    {
      "cell_type": "code",
      "source": [
        "#History now and fitting the model to 20 epochs\n",
        "history_model_1 = model_1.fit(\n",
        "            X_train, y_train_encoded,\n",
        "            epochs=20,\n",
        "            validation_split=0.2,\n",
        "            batch_size = 32,\n",
        "            verbose=1)"
      ],
      "metadata": {
        "colab": {
          "base_uri": "https://localhost:8080/"
        },
        "id": "73830SJbg6uf",
        "outputId": "8973e07a-bfc8-4f66-d04d-df70349365c8"
      },
      "execution_count": null,
      "outputs": [
        {
          "output_type": "stream",
          "name": "stdout",
          "text": [
            "Epoch 1/20\n",
            "1050/1050 [==============================] - 64s 60ms/step - loss: 1.1274 - accuracy: 0.6303 - val_loss: 0.6497 - val_accuracy: 0.8087\n",
            "Epoch 2/20\n",
            "1050/1050 [==============================] - 67s 64ms/step - loss: 0.5352 - accuracy: 0.8475 - val_loss: 0.5254 - val_accuracy: 0.8448\n",
            "Epoch 3/20\n",
            "1050/1050 [==============================] - 62s 59ms/step - loss: 0.4416 - accuracy: 0.8700 - val_loss: 0.5049 - val_accuracy: 0.8532\n",
            "Epoch 4/20\n",
            "1050/1050 [==============================] - 60s 57ms/step - loss: 0.3781 - accuracy: 0.8888 - val_loss: 0.4486 - val_accuracy: 0.8739\n",
            "Epoch 5/20\n",
            "1050/1050 [==============================] - 62s 59ms/step - loss: 0.3330 - accuracy: 0.9004 - val_loss: 0.4592 - val_accuracy: 0.8717\n",
            "Epoch 6/20\n",
            "1050/1050 [==============================] - 62s 59ms/step - loss: 0.2944 - accuracy: 0.9115 - val_loss: 0.4640 - val_accuracy: 0.8735\n",
            "Epoch 7/20\n",
            "1050/1050 [==============================] - 62s 59ms/step - loss: 0.2622 - accuracy: 0.9216 - val_loss: 0.4506 - val_accuracy: 0.8807\n",
            "Epoch 8/20\n",
            "1050/1050 [==============================] - 62s 59ms/step - loss: 0.2332 - accuracy: 0.9279 - val_loss: 0.4920 - val_accuracy: 0.8681\n",
            "Epoch 9/20\n",
            "1050/1050 [==============================] - 61s 58ms/step - loss: 0.2094 - accuracy: 0.9365 - val_loss: 0.4703 - val_accuracy: 0.8782\n",
            "Epoch 10/20\n",
            "1050/1050 [==============================] - 61s 58ms/step - loss: 0.1873 - accuracy: 0.9424 - val_loss: 0.4922 - val_accuracy: 0.8782\n",
            "Epoch 11/20\n",
            "1050/1050 [==============================] - 60s 57ms/step - loss: 0.1663 - accuracy: 0.9471 - val_loss: 0.5408 - val_accuracy: 0.8752\n",
            "Epoch 12/20\n",
            "1050/1050 [==============================] - 60s 57ms/step - loss: 0.1521 - accuracy: 0.9519 - val_loss: 0.5748 - val_accuracy: 0.8701\n",
            "Epoch 13/20\n",
            "1050/1050 [==============================] - 61s 58ms/step - loss: 0.1331 - accuracy: 0.9571 - val_loss: 0.6197 - val_accuracy: 0.8671\n",
            "Epoch 14/20\n",
            "1050/1050 [==============================] - 60s 57ms/step - loss: 0.1233 - accuracy: 0.9601 - val_loss: 0.6305 - val_accuracy: 0.8640\n",
            "Epoch 15/20\n",
            "1050/1050 [==============================] - 65s 62ms/step - loss: 0.1132 - accuracy: 0.9633 - val_loss: 0.6549 - val_accuracy: 0.8707\n",
            "Epoch 16/20\n",
            "1050/1050 [==============================] - 62s 59ms/step - loss: 0.1008 - accuracy: 0.9669 - val_loss: 0.7015 - val_accuracy: 0.8658\n",
            "Epoch 17/20\n",
            "1050/1050 [==============================] - 60s 58ms/step - loss: 0.0929 - accuracy: 0.9704 - val_loss: 0.6903 - val_accuracy: 0.8750\n",
            "Epoch 18/20\n",
            "1050/1050 [==============================] - 60s 57ms/step - loss: 0.0798 - accuracy: 0.9749 - val_loss: 0.7664 - val_accuracy: 0.8681\n",
            "Epoch 19/20\n",
            "1050/1050 [==============================] - 62s 59ms/step - loss: 0.0778 - accuracy: 0.9744 - val_loss: 0.7585 - val_accuracy: 0.8714\n",
            "Epoch 20/20\n",
            "1050/1050 [==============================] - 60s 57ms/step - loss: 0.0742 - accuracy: 0.9756 - val_loss: 0.8155 - val_accuracy: 0.8701\n"
          ]
        }
      ]
    },
    {
      "cell_type": "markdown",
      "metadata": {
        "id": "JPzfIf9kKDNw"
      },
      "source": [
        "### **Plot the Training and Validation Accuracies and Write your observations.**"
      ]
    },
    {
      "cell_type": "code",
      "execution_count": null,
      "metadata": {
        "id": "07oUCr1kAjQH",
        "colab": {
          "base_uri": "https://localhost:8080/",
          "height": 560
        },
        "outputId": "ede388b4-cdc5-4e29-ac11-3474da44577c"
      },
      "outputs": [
        {
          "output_type": "execute_result",
          "data": {
            "text/plain": [
              "<matplotlib.legend.Legend at 0x7b7521cfebc0>"
            ]
          },
          "metadata": {},
          "execution_count": 238
        },
        {
          "output_type": "display_data",
          "data": {
            "text/plain": [
              "<Figure size 600x600 with 1 Axes>"
            ],
            "image/png": "[encoded data removed]"
          },
          "metadata": {}
        }
      ],
      "source": [
        "#dictionary again\n",
        "histdictcnn = history_model_1.history\n",
        "list_ep = [i for i in range(1, 21)]\n",
        "\n",
        "plt.figure(figsize=(6,6))\n",
        "plt.plot(list_ep, histdictcnn['accuracy'], label = 'Training Accuracy')\n",
        "plt.plot(list_ep, histdictcnn['val_accuracy'], label = 'Validation Accuracy')\n",
        "plt.ylabel('Accuracy')\n",
        "plt.xlabel('Epochs')\n",
        "plt.legend()"
      ]
    },
    {
      "cell_type": "markdown",
      "metadata": {
        "id": "P6zTLyp9AjQH"
      },
      "source": [
        "**Observations: the model has done poorly on the validation data. The model appears to be overfitting the training data.\n",
        "The validation accuracy becomes somewhat constant after the first two epochs.\n",
        "But the incresing rate of accuracy is lower after 2 epochs.**"
      ]
    },
    {
      "cell_type": "markdown",
      "metadata": {
        "id": "Ukvtg2eMAjQH"
      },
      "source": [
        "Let's build another model and see if we can get a better model with generalized performance.\n",
        "\n",
        "First, we need to clear the previous model's history from the Keras backend. Also, let's fix the seed again after clearing the backend."
      ]
    },
    {
      "cell_type": "code",
      "execution_count": null,
      "metadata": {
        "id": "HbKi93HTolGW"
      },
      "outputs": [],
      "source": [
        "#We repeat our steps above with backend\n",
        "from tensorflow.keras import backend\n",
        "backend.clear_session()\n",
        "\n",
        "#fix seed again\n",
        "np.random.seed(42)\n",
        "import random\n",
        "random.seed(42)\n",
        "tf.random.set_seed(42)"
      ]
    },
    {
      "cell_type": "markdown",
      "metadata": {
        "id": "Ep19Jd8HAjQH"
      },
      "source": [
        "### **Second Model Architecture**\n",
        "\n",
        "- Write a function that returns a sequential model with the following architecture:\n",
        " - First Convolutional layer with **16 filters and the kernel size of 3x3**. Use the **'same' padding** and provide the **input shape = (32, 32, 1)**\n",
        " - Add a **LeakyRelu layer** with the **slope equal to 0.1**\n",
        " - Second Convolutional layer with **32 filters and the kernel size of 3x3 with 'same' padding**\n",
        " - Add **LeakyRelu** with the **slope equal to 0.1**\n",
        " - Add a **max-pooling layer** with a **pool size of 2x2**\n",
        " - Add a **BatchNormalization layer**\n",
        " - Third Convolutional layer with **32 filters and the kernel size of 3x3 with 'same' padding**\n",
        " - Add a **LeakyRelu layer with the slope equal to 0.1**\n",
        " - Fourth Convolutional layer **64 filters and the kernel size of 3x3 with 'same' padding**\n",
        " - Add a **LeakyRelu layer with the slope equal to 0.1**\n",
        " - Add a **max-pooling layer** with a **pool size of 2x2**\n",
        " - Add a **BatchNormalization layer**\n",
        " - **Flatten** the output from the previous layer\n",
        " - Add a **dense layer with 32 nodes**\n",
        " - Add a **LeakyRelu layer with the slope equal to 0.1**\n",
        " - Add a **dropout layer with the rate equal to 0.5**\n",
        " - Add the final **output layer with nodes equal to the number of classes, i.e., 10** and **'softmax' as the activation function**\n",
        " - Compile the model with the **categorical_crossentropy loss, adam optimizers (learning_rate = 0.001), and metric equal to 'accuracy'**. Do not fit the model here, just return the compiled model.\n",
        "- Call the function cnn_model_2 and store the model in a new variable.\n",
        "- Print the summary of the model.\n",
        "- Fit the model on the train data with a **validation split of 0.2, batch size = 128, verbose = 1, and epochs = 30**. Store the model building history to use later for visualization."
      ]
    },
    {
      "cell_type": "markdown",
      "metadata": {
        "id": "y5IBLS1eKDNy"
      },
      "source": [
        "### **Build and train the second CNN model as per the above mentioned architecture.**"
      ]
    },
    {
      "cell_type": "code",
      "execution_count": null,
      "metadata": {
        "id": "wk9sl2UEAjQH"
      },
      "outputs": [],
      "source": [
        "#Define the function again!! Round two\n",
        "def cnn_model_2():\n",
        "    model = Sequential()\n",
        "    #Add layers as per the architecture mentioned above in the same sequence\n",
        "    model.add(Conv2D(filters=16, kernel_size=(3, 3), padding=\"same\", input_shape=(32, 32, 1)))\n",
        "    model.add(LeakyReLU(0.1))\n",
        "    model.add(Conv2D(filters=32, kernel_size=(3, 3), padding=\"same\"))\n",
        "    model.add(LeakyReLU(0.1))\n",
        "    model.add(MaxPool2D(pool_size=(2, 2)))\n",
        "    model.add(BatchNormalization())\n",
        "    model.add(Conv2D(filters=32, kernel_size=(3, 3), padding=\"same\"))\n",
        "    model.add(LeakyReLU(0.1))\n",
        "    model.add(Conv2D(filters=64, kernel_size=(3, 3), padding=\"same\"))\n",
        "    model.add(LeakyReLU(0.1))\n",
        "    model.add(MaxPool2D(pool_size=(2, 2)))\n",
        "    model.add(BatchNormalization())\n",
        "    model.add(Flatten())\n",
        "    model.add(Dense(32))\n",
        "    model.add(LeakyReLU(0.1))\n",
        "    model.add(Dropout(0.5))\n",
        "    model.add(Dense(10, activation='softmax'))\n",
        "\n",
        "    #declare adam optimizer with learning rate of 0.001\n",
        "    adam = optimizers.Adam(learning_rate = 0.001)\n",
        "\n",
        "    #compile the model\n",
        "    model.compile(loss = 'categorical_crossentropy', optimizer=adam, metrics=['accuracy'])\n",
        "\n",
        "    return model"
      ]
    },
    {
      "cell_type": "code",
      "source": [
        "#now build that model a\n",
        "model_2 = cnn_model_2()\n",
        "#summary\n",
        "model_2.summary()"
      ],
      "metadata": {
        "colab": {
          "base_uri": "https://localhost:8080/"
        },
        "id": "YkjZuSCBe0uP",
        "outputId": "3cf6fd78-0d01-4a0b-d210-250ea2a22b7e"
      },
      "execution_count": null,
      "outputs": [
        {
          "output_type": "stream",
          "name": "stdout",
          "text": [
            "Model: \"sequential_1\"\n",
            "_________________________________________________________________\n",
            " Layer (type)                Output Shape              Param #   \n",
            "=================================================================\n",
            " conv2d_4 (Conv2D)           (None, 32, 32, 16)        160       \n",
            "                                                                 \n",
            " leaky_re_lu_5 (LeakyReLU)   (None, 32, 32, 16)        0         \n",
            "                                                                 \n",
            " conv2d_5 (Conv2D)           (None, 32, 32, 32)        4640      \n",
            "                                                                 \n",
            " leaky_re_lu_6 (LeakyReLU)   (None, 32, 32, 32)        0         \n",
            "                                                                 \n",
            " max_pooling2d_2 (MaxPoolin  (None, 16, 16, 32)        0         \n",
            " g2D)                                                            \n",
            "                                                                 \n",
            " batch_normalization_2 (Bat  (None, 16, 16, 32)        128       \n",
            " chNormalization)                                                \n",
            "                                                                 \n",
            " conv2d_6 (Conv2D)           (None, 16, 16, 32)        9248      \n",
            "                                                                 \n",
            " leaky_re_lu_7 (LeakyReLU)   (None, 16, 16, 32)        0         \n",
            "                                                                 \n",
            " conv2d_7 (Conv2D)           (None, 16, 16, 64)        18496     \n",
            "                                                                 \n",
            " leaky_re_lu_8 (LeakyReLU)   (None, 16, 16, 64)        0         \n",
            "                                                                 \n",
            " max_pooling2d_3 (MaxPoolin  (None, 8, 8, 64)          0         \n",
            " g2D)                                                            \n",
            "                                                                 \n",
            " batch_normalization_3 (Bat  (None, 8, 8, 64)          256       \n",
            " chNormalization)                                                \n",
            "                                                                 \n",
            " flatten_1 (Flatten)         (None, 4096)              0         \n",
            "                                                                 \n",
            " dense_2 (Dense)             (None, 32)                131104    \n",
            "                                                                 \n",
            " leaky_re_lu_9 (LeakyReLU)   (None, 32)                0         \n",
            "                                                                 \n",
            " dropout_1 (Dropout)         (None, 32)                0         \n",
            "                                                                 \n",
            " dense_3 (Dense)             (None, 10)                330       \n",
            "                                                                 \n",
            "=================================================================\n",
            "Total params: 164362 (642.04 KB)\n",
            "Trainable params: 164170 (641.29 KB)\n",
            "Non-trainable params: 192 (768.00 Byte)\n",
            "_________________________________________________________________\n"
          ]
        }
      ]
    },
    {
      "cell_type": "code",
      "source": [
        "#fit the model again and save the history\n",
        "history_model_2 = model_two.fit(\n",
        "    X_train,y_train_encoded,\n",
        "    epochs=30,\n",
        "    validation_split=0.2,\n",
        "    batch_size = 128,\n",
        "    verbose=1)"
      ],
      "metadata": {
        "colab": {
          "base_uri": "https://localhost:8080/"
        },
        "id": "-YFJWJzejxvI",
        "outputId": "2190c2fb-1360-4095-f86b-290b696278e7"
      },
      "execution_count": null,
      "outputs": [
        {
          "output_type": "stream",
          "name": "stdout",
          "text": [
            "Epoch 1/30\n",
            "263/263 [==============================] - 115s 438ms/step - loss: 0.5102 - accuracy: 0.8442 - val_loss: 0.4253 - val_accuracy: 0.8782\n",
            "Epoch 2/30\n",
            "263/263 [==============================] - 108s 410ms/step - loss: 0.4612 - accuracy: 0.8612 - val_loss: 0.4103 - val_accuracy: 0.8851\n",
            "Epoch 3/30\n",
            "263/263 [==============================] - 106s 405ms/step - loss: 0.4186 - accuracy: 0.8729 - val_loss: 0.4160 - val_accuracy: 0.8900\n",
            "Epoch 4/30\n",
            "263/263 [==============================] - 110s 417ms/step - loss: 0.3926 - accuracy: 0.8791 - val_loss: 0.3877 - val_accuracy: 0.8907\n",
            "Epoch 5/30\n",
            "263/263 [==============================] - 104s 394ms/step - loss: 0.3603 - accuracy: 0.8885 - val_loss: 0.4146 - val_accuracy: 0.8811\n",
            "Epoch 6/30\n",
            "263/263 [==============================] - 104s 397ms/step - loss: 0.3394 - accuracy: 0.8962 - val_loss: 0.3898 - val_accuracy: 0.8907\n",
            "Epoch 7/30\n",
            "263/263 [==============================] - 104s 395ms/step - loss: 0.3201 - accuracy: 0.8993 - val_loss: 0.3709 - val_accuracy: 0.8954\n",
            "Epoch 8/30\n",
            "263/263 [==============================] - 107s 408ms/step - loss: 0.3037 - accuracy: 0.9040 - val_loss: 0.3786 - val_accuracy: 0.9035\n",
            "Epoch 9/30\n",
            "263/263 [==============================] - 104s 395ms/step - loss: 0.2895 - accuracy: 0.9077 - val_loss: 0.3976 - val_accuracy: 0.8938\n",
            "Epoch 10/30\n",
            "263/263 [==============================] - 104s 395ms/step - loss: 0.2742 - accuracy: 0.9139 - val_loss: 0.3721 - val_accuracy: 0.9080\n",
            "Epoch 11/30\n",
            "263/263 [==============================] - 107s 407ms/step - loss: 0.2590 - accuracy: 0.9169 - val_loss: 0.3757 - val_accuracy: 0.9065\n",
            "Epoch 12/30\n",
            "263/263 [==============================] - 107s 408ms/step - loss: 0.2540 - accuracy: 0.9198 - val_loss: 0.3849 - val_accuracy: 0.9094\n",
            "Epoch 13/30\n",
            "263/263 [==============================] - 104s 394ms/step - loss: 0.2410 - accuracy: 0.9231 - val_loss: 0.4569 - val_accuracy: 0.8974\n",
            "Epoch 14/30\n",
            "263/263 [==============================] - 107s 406ms/step - loss: 0.2298 - accuracy: 0.9258 - val_loss: 0.4084 - val_accuracy: 0.9046\n",
            "Epoch 15/30\n",
            "263/263 [==============================] - 106s 404ms/step - loss: 0.2221 - accuracy: 0.9280 - val_loss: 0.4100 - val_accuracy: 0.9088\n",
            "Epoch 16/30\n",
            "263/263 [==============================] - 107s 408ms/step - loss: 0.2114 - accuracy: 0.9324 - val_loss: 0.3603 - val_accuracy: 0.9113\n",
            "Epoch 17/30\n",
            "263/263 [==============================] - 104s 394ms/step - loss: 0.1991 - accuracy: 0.9360 - val_loss: 0.4054 - val_accuracy: 0.9036\n",
            "Epoch 18/30\n",
            "263/263 [==============================] - 107s 405ms/step - loss: 0.1970 - accuracy: 0.9360 - val_loss: 0.4307 - val_accuracy: 0.9032\n",
            "Epoch 19/30\n",
            "263/263 [==============================] - 107s 408ms/step - loss: 0.1971 - accuracy: 0.9340 - val_loss: 0.4405 - val_accuracy: 0.9001\n",
            "Epoch 20/30\n",
            "263/263 [==============================] - 104s 397ms/step - loss: 0.1833 - accuracy: 0.9395 - val_loss: 0.4723 - val_accuracy: 0.8927\n",
            "Epoch 21/30\n",
            "263/263 [==============================] - 104s 394ms/step - loss: 0.1810 - accuracy: 0.9417 - val_loss: 0.4122 - val_accuracy: 0.9104\n",
            "Epoch 22/30\n",
            "263/263 [==============================] - 106s 402ms/step - loss: 0.1728 - accuracy: 0.9424 - val_loss: 0.3999 - val_accuracy: 0.9061\n",
            "Epoch 23/30\n",
            "263/263 [==============================] - 106s 405ms/step - loss: 0.1714 - accuracy: 0.9446 - val_loss: 0.4089 - val_accuracy: 0.9125\n",
            "Epoch 24/30\n",
            "263/263 [==============================] - 103s 391ms/step - loss: 0.1659 - accuracy: 0.9454 - val_loss: 0.4529 - val_accuracy: 0.9115\n",
            "Epoch 25/30\n",
            "263/263 [==============================] - 103s 392ms/step - loss: 0.1655 - accuracy: 0.9451 - val_loss: 0.4189 - val_accuracy: 0.9129\n",
            "Epoch 26/30\n",
            "263/263 [==============================] - 103s 392ms/step - loss: 0.1506 - accuracy: 0.9497 - val_loss: 0.4271 - val_accuracy: 0.9125\n",
            "Epoch 27/30\n",
            "263/263 [==============================] - 103s 391ms/step - loss: 0.1484 - accuracy: 0.9501 - val_loss: 0.4643 - val_accuracy: 0.9115\n",
            "Epoch 28/30\n",
            "263/263 [==============================] - 107s 407ms/step - loss: 0.1451 - accuracy: 0.9510 - val_loss: 0.4973 - val_accuracy: 0.9115\n",
            "Epoch 29/30\n",
            "263/263 [==============================] - 107s 409ms/step - loss: 0.1484 - accuracy: 0.9507 - val_loss: 0.5574 - val_accuracy: 0.8999\n",
            "Epoch 30/30\n",
            "263/263 [==============================] - 103s 391ms/step - loss: 0.1411 - accuracy: 0.9524 - val_loss: 0.4698 - val_accuracy: 0.8993\n"
          ]
        }
      ]
    },
    {
      "cell_type": "markdown",
      "metadata": {
        "id": "PyhUtMy3KDN1"
      },
      "source": [
        "### **Plot the Training and Validation accuracies and write your observations.**"
      ]
    },
    {
      "cell_type": "code",
      "execution_count": null,
      "metadata": {
        "id": "YVQu7uWiAjQH",
        "colab": {
          "base_uri": "https://localhost:8080/",
          "height": 522
        },
        "outputId": "f37803c0-e8b2-4e31-cc8c-acfe33cbe44a"
      },
      "outputs": [
        {
          "output_type": "display_data",
          "data": {
            "text/plain": [
              "<Figure size 600x600 with 1 Axes>"
            ],
            "image/png": "[encoded data removed]"
          },
          "metadata": {}
        }
      ],
      "source": [
        "#Another new dictionary\n",
        "histdictcnn2 = history_model_two.history\n",
        "list_ep = [i for i in range(1,31)]\n",
        "\n",
        "#plot the model again\n",
        "plt.figure(figsize=(6,6))\n",
        "plt.plot(list_ep,histdictcnn2['accuracy'],ls = '--', label = 'accuracy')\n",
        "plt.plot(list_ep,histdictcnn2['val_accuracy'],ls = '--', label = 'val_accuracy')\n",
        "plt.ylabel('Accuracy')\n",
        "plt.show()"
      ]
    },
    {
      "cell_type": "markdown",
      "metadata": {
        "id": "Qrrt0Ac3AjQH"
      },
      "source": [
        "**Observations:The second model has dropout layers, and they seem to have reduced the overfitting as compared to the previous model. The validation deata accuracy is ~5% lower than the training data accuracy now.\n",
        "The accuracy in this model is better than the 1st model overall.The Training accuracy does increase with the increase in epochs. It rapidly increases up to around 5 epochs, but then it seems to have a very lower increase going on.\n",
        "The validation accuracy is volatile still, but overall it is also increasing with the increase in epochs. Just like the training data accuracy, validation accuracy also has a rapid increase up to around 2 epochs and then has lower increase. It appears close to constant.\n",
        "The model is giving around ~90% accuracy at 30 epochs. At 30 epochs, the accuracy of the model on the training data is about 94% and the validation accuracy is ~90%.\n",
        "The validation accuracy and training accuracy still have ~5% difference.**"
      ]
    },
    {
      "cell_type": "markdown",
      "metadata": {
        "id": "kja4SnOdAjQI"
      },
      "source": [
        "## **Predictions on the test data**\n",
        "\n",
        "- Make predictions on the test set using the second model.\n",
        "- Print the obtained results using the classification report and the confusion matrix.\n",
        "- Final observations on the obtained results."
      ]
    },
    {
      "cell_type": "markdown",
      "metadata": {
        "id": "eHCRwRbgKDN2"
      },
      "source": [
        "### **Make predictions on the test data using the second model.**"
      ]
    },
    {
      "cell_type": "code",
      "execution_count": null,
      "metadata": {
        "id": "f1d-VvaLAjQI",
        "colab": {
          "base_uri": "https://localhost:8080/"
        },
        "outputId": "0ffcd52e-f9b2-4e18-fa75-5299d860e250"
      },
      "outputs": [
        {
          "output_type": "stream",
          "name": "stdout",
          "text": [
            "563/563 [==============================] - 21s 37ms/step\n"
          ]
        }
      ],
      "source": [
        "#Make prediction on the test data using model_2\n",
        "test_pred = model_2.predict(X_test)\n",
        "\n",
        "test_pred = np.argmax(test_pred, axis=-1)"
      ]
    },
    {
      "cell_type": "markdown",
      "metadata": {
        "id": "DrV1tOG0AjQI"
      },
      "source": [
        "**Note:** Earlier, we noticed that each entry of the target variable is a one-hot encoded vector, but to print the classification report and confusion matrix, we must convert each entry of y_test to a single label."
      ]
    },
    {
      "cell_type": "code",
      "execution_count": null,
      "metadata": {
        "id": "dUSHU9W0AjQI"
      },
      "outputs": [],
      "source": [
        "#We now will change each entry back to a single label from a one-hot encoded vector that we created before\n",
        "y_test = np.argmax(y_test_encoded, axis=-1)"
      ]
    },
    {
      "cell_type": "code",
      "source": [
        "y_test.shape"
      ],
      "metadata": {
        "colab": {
          "base_uri": "https://localhost:8080/"
        },
        "id": "WnSCjNJMSUXz",
        "outputId": "29857fd0-8081-4d35-99cc-d765685a1345"
      },
      "execution_count": null,
      "outputs": [
        {
          "output_type": "execute_result",
          "data": {
            "text/plain": [
              "(18000,)"
            ]
          },
          "metadata": {},
          "execution_count": 249
        }
      ]
    },
    {
      "cell_type": "markdown",
      "metadata": {
        "id": "aVCa-ysWKDN3"
      },
      "source": [
        "### **Write your final observations on the performance of the model on the test data.**"
      ]
    },
    {
      "cell_type": "code",
      "execution_count": null,
      "metadata": {
        "id": "sOMq2rCJAjQJ"
      },
      "outputs": [],
      "source": [
        "#To get our final observations, we need to run the classificaition report and add the confusion matrix again to look at everything in greater detail\n",
        "#importing required functions (even though we have these at the start. I want them here for clarity)\n",
        "from sklearn.metrics import classification_report\n",
        "from sklearn.metrics import confusion_matrix"
      ]
    },
    {
      "cell_type": "code",
      "source": [
        "print(classification_report(y_test, test_pred))"
      ],
      "metadata": {
        "colab": {
          "base_uri": "https://localhost:8080/"
        },
        "id": "r_hUVLJFl03S",
        "outputId": "365e11d7-2127-4296-cd45-71815ff0f672"
      },
      "execution_count": null,
      "outputs": [
        {
          "output_type": "stream",
          "name": "stdout",
          "text": [
            "              precision    recall  f1-score   support\n",
            "\n",
            "           0       0.00      0.00      0.00      1814\n",
            "           1       0.13      0.00      0.00      1828\n",
            "           2       0.00      0.00      0.00      1803\n",
            "           3       0.00      0.00      0.00      1719\n",
            "           4       0.00      0.00      0.00      1812\n",
            "           5       0.06      0.00      0.00      1768\n",
            "           6       0.00      0.00      0.00      1832\n",
            "           7       0.08      0.06      0.07      1808\n",
            "           8       0.00      0.00      0.00      1812\n",
            "           9       0.10      0.92      0.18      1804\n",
            "\n",
            "    accuracy                           0.10     18000\n",
            "   macro avg       0.04      0.10      0.03     18000\n",
            "weighted avg       0.04      0.10      0.03     18000\n",
            "\n"
          ]
        },
        {
          "output_type": "stream",
          "name": "stderr",
          "text": [
            "/usr/local/lib/python3.10/dist-packages/sklearn/metrics/_classification.py:1344: UndefinedMetricWarning: Precision and F-score are ill-defined and being set to 0.0 in labels with no predicted samples. Use `zero_division` parameter to control this behavior.\n",
            "  _warn_prf(average, modifier, msg_start, len(result))\n",
            "/usr/local/lib/python3.10/dist-packages/sklearn/metrics/_classification.py:1344: UndefinedMetricWarning: Precision and F-score are ill-defined and being set to 0.0 in labels with no predicted samples. Use `zero_division` parameter to control this behavior.\n",
            "  _warn_prf(average, modifier, msg_start, len(result))\n",
            "/usr/local/lib/python3.10/dist-packages/sklearn/metrics/_classification.py:1344: UndefinedMetricWarning: Precision and F-score are ill-defined and being set to 0.0 in labels with no predicted samples. Use `zero_division` parameter to control this behavior.\n",
            "  _warn_prf(average, modifier, msg_start, len(result))\n"
          ]
        }
      ]
    },
    {
      "cell_type": "code",
      "source": [
        "#heatmap again is being used to plot the confusion matrix\n",
        "cm = confusion_matrix(y_test, test_pred)\n",
        "plt.figure(figsize=(8,5))\n",
        "sns.heatmap(cm, annot=True,  fmt='.0f')\n",
        "plt.ylabel('Actual')\n",
        "plt.xlabel('Predicted')\n",
        "plt.show()"
      ],
      "metadata": {
        "colab": {
          "base_uri": "https://localhost:8080/",
          "height": 465
        },
        "id": "Bp_r4A5Fl4BS",
        "outputId": "8d0c8151-531e-45f7-eda7-7530460d5c8f"
      },
      "execution_count": null,
      "outputs": [
        {
          "output_type": "display_data",
          "data": {
            "text/plain": [
              "<Figure size 800x500 with 2 Axes>"
            ],
            "image/png": "[encoded data removed]"
          },
          "metadata": {}
        }
      ]
    },
    {
      "cell_type": "markdown",
      "source": [],
      "metadata": {
        "id": "7yuQVmGEmb6W"
      }
    },
    {
      "cell_type": "markdown",
      "metadata": {
        "id": "TNN9v713AjQJ"
      },
      "source": [
        "**Final Observations:The model is giving ~91% accuracy on the test data which is comparable to the accuracy of the validation data. This can lead us to believe that the model is giving a generalized performance again here.\n",
        "The recall in this model again has a very high range (88-94)% which implies that the model is pretty good at identifying most of the objects.\n",
        "The model is able to identify ~94% of image 0 but can only identify only ~88% of image 3 and 8.  These were the two images that were a problem in the last ANN model too. Perhaps we remove them?\n",
        "\n",
        "Here also, the lowest image classes 0 and 8 have the lowest accuracy. The model needs improvements in order to distinguish between 3 and 8.\n",
        "Overall the model could distiguish individual digits well.\n",
        "Also, the overall accuracy and the recall values tell us we can say that this CNN works better than the ANN when identifying digits in the images.**"
      ]
    }
  ],
  "metadata": {
    "accelerator": "TPU",
    "colab": {
      "provenance": [],
      "include_colab_link": true
    },
    "kernelspec": {
      "display_name": "Python 3 (ipykernel)",
      "language": "python",
      "name": "python3"
    },
    "language_info": {
      "codemirror_mode": {
        "name": "ipython",
        "version": 3
      },
      "file_extension": ".py",
      "mimetype": "text/x-python",
      "name": "python",
      "nbconvert_exporter": "python",
      "pygments_lexer": "ipython3",
      "version": "3.9.7"
    }
  },
  "nbformat": 4,
  "nbformat_minor": 0
}